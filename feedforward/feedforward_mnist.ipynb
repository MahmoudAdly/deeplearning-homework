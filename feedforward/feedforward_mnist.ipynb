{
 "cells": [
  {
   "cell_type": "code",
   "execution_count": 1,
   "metadata": {
    "scrolled": true
   },
   "outputs": [
    {
     "name": "stderr",
     "output_type": "stream",
     "text": [
      "/opt/conda/lib/python3.6/site-packages/h5py/__init__.py:36: FutureWarning: Conversion of the second argument of issubdtype from `float` to `np.floating` is deprecated. In future, it will be treated as `np.float64 == np.dtype(float).type`.\n",
      "  from ._conv import register_converters as _register_converters\n",
      "Using TensorFlow backend.\n"
     ]
    }
   ],
   "source": [
    "import time\n",
    "import numpy as np\n",
    "from matplotlib import pyplot as plt\n",
    "from keras.utils import np_utils\n",
    "import keras.callbacks as cb\n",
    "from keras.models import Sequential\n",
    "from keras.layers.core import Dense, Dropout, Activation\n",
    "from keras.optimizers import RMSprop\n",
    "from keras.datasets import mnist"
   ]
  },
  {
   "cell_type": "code",
   "execution_count": 2,
   "metadata": {},
   "outputs": [],
   "source": [
    "class LossHistory(cb.Callback):\n",
    "    def on_train_begin(self, logs={}):\n",
    "        self.losses = []\n",
    "\n",
    "    def on_batch_end(self, batch, logs={}):\n",
    "        batch_loss = logs.get('loss')\n",
    "        self.losses.append(batch_loss)"
   ]
  },
  {
   "cell_type": "code",
   "execution_count": 3,
   "metadata": {},
   "outputs": [],
   "source": [
    "def load_data():\n",
    "    print('Loading data...')\n",
    "    (X_train, y_train), (X_test, y_test) = mnist.load_data()\n",
    "\n",
    "    X_train = X_train.astype('float32')\n",
    "    X_test = X_test.astype('float32')\n",
    "\n",
    "    X_train /= 255\n",
    "    X_test /= 255\n",
    "\n",
    "    y_train = np_utils.to_categorical(y_train, 10)\n",
    "    y_test = np_utils.to_categorical(y_test, 10)\n",
    "\n",
    "    X_train = np.reshape(X_train, (60000, 784))\n",
    "    X_test = np.reshape(X_test, (10000, 784))\n",
    "\n",
    "    print('Data loaded.')\n",
    "    return [X_train, X_test, y_train, y_test]"
   ]
  },
  {
   "cell_type": "code",
   "execution_count": 4,
   "metadata": {},
   "outputs": [],
   "source": [
    "def init_model():\n",
    "    start_time = time.time()\n",
    "    print('Compiling Model ... ')\n",
    "    model = Sequential()\n",
    "    model.add(Dense(500, input_dim=784))\n",
    "    model.add(Activation('relu'))\n",
    "    model.add(Dropout(0.4))\n",
    "    model.add(Dense(300))\n",
    "    model.add(Activation('relu'))\n",
    "    model.add(Dropout(0.4))\n",
    "    model.add(Dense(10))\n",
    "    model.add(Activation('softmax'))\n",
    "\n",
    "    rms = RMSprop()\n",
    "    model.compile(loss='categorical_crossentropy', optimizer=rms, metrics=['accuracy'])\n",
    "    print('Model compield in {0} seconds'.format(time.time() - start_time))\n",
    "    return model"
   ]
  },
  {
   "cell_type": "code",
   "execution_count": 9,
   "metadata": {},
   "outputs": [],
   "source": [
    "def run_network(data=None, model=None, epochs=20, batch=256):\n",
    "    try:\n",
    "        start_time = time.time()\n",
    "        if data is None:\n",
    "            X_train, X_test, y_train, y_test = load_data()\n",
    "        else:\n",
    "            X_train, X_test, y_train, y_test = data\n",
    "\n",
    "        if model is None:\n",
    "            model = init_model()\n",
    "\n",
    "        history = LossHistory()\n",
    "\n",
    "        print('Training model...')\n",
    "        model.fit(X_train, y_train, epochs=epochs, batch_size=batch,\n",
    "                  callbacks=[history],\n",
    "                  validation_data=(X_test, y_test), verbose=2)\n",
    "\n",
    "        print(\"Training duration : {0}\".format(time.time() - start_time))\n",
    "        score = model.evaluate(X_test, y_test, batch_size=16)\n",
    "\n",
    "        print(\"Network's test score [loss, accuracy]: {0}\".format(score))\n",
    "        return model, history.losses\n",
    "    except KeyboardInterrupt:\n",
    "        print(' KeyboardInterrupt')\n",
    "        return model, history.losses"
   ]
  },
  {
   "cell_type": "code",
   "execution_count": 13,
   "metadata": {},
   "outputs": [],
   "source": [
    "def plot_losses(losses):\n",
    "    fig = plt.figure()\n",
    "    ax = fig.add_subplot(111)\n",
    "    ax.plot(losses)\n",
    "    ax.set_title('Loss per batch')"
   ]
  },
  {
   "cell_type": "code",
   "execution_count": 7,
   "metadata": {},
   "outputs": [
    {
     "name": "stdout",
     "output_type": "stream",
     "text": [
      "Loading data...\n",
      "Downloading data from https://s3.amazonaws.com/img-datasets/mnist.npz\n",
      "11493376/11490434 [==============================] - 22s 2us/step\n",
      "Data loaded.\n"
     ]
    }
   ],
   "source": [
    "data = load_data()"
   ]
  },
  {
   "cell_type": "code",
   "execution_count": 11,
   "metadata": {},
   "outputs": [
    {
     "name": "stdout",
     "output_type": "stream",
     "text": [
      "Compiling Model ... \n",
      "Model compield in 0.14789247512817383 seconds\n",
      "Training model...\n",
      "Train on 60000 samples, validate on 10000 samples\n",
      "Epoch 1/20\n",
      " - 9s - loss: 0.3608 - acc: 0.8885 - val_loss: 0.1337 - val_acc: 0.9579\n",
      "Epoch 2/20\n",
      " - 11s - loss: 0.1570 - acc: 0.9528 - val_loss: 0.1041 - val_acc: 0.9685\n",
      "Epoch 3/20\n",
      " - 7s - loss: 0.1140 - acc: 0.9653 - val_loss: 0.0881 - val_acc: 0.9721\n",
      "Epoch 4/20\n",
      " - 7s - loss: 0.0926 - acc: 0.9719 - val_loss: 0.0784 - val_acc: 0.9763\n",
      "Epoch 5/20\n",
      " - 7s - loss: 0.0772 - acc: 0.9766 - val_loss: 0.0710 - val_acc: 0.9808\n",
      "Epoch 6/20\n",
      " - 7s - loss: 0.0694 - acc: 0.9790 - val_loss: 0.0789 - val_acc: 0.9770\n",
      "Epoch 7/20\n",
      " - 7s - loss: 0.0623 - acc: 0.9816 - val_loss: 0.0699 - val_acc: 0.9802\n",
      "Epoch 8/20\n",
      " - 7s - loss: 0.0582 - acc: 0.9825 - val_loss: 0.0725 - val_acc: 0.9813\n",
      "Epoch 9/20\n",
      " - 7s - loss: 0.0536 - acc: 0.9836 - val_loss: 0.0736 - val_acc: 0.9801\n",
      "Epoch 10/20\n",
      " - 7s - loss: 0.0490 - acc: 0.9855 - val_loss: 0.0727 - val_acc: 0.9814\n",
      "Epoch 11/20\n",
      " - 7s - loss: 0.0489 - acc: 0.9853 - val_loss: 0.0669 - val_acc: 0.9823\n",
      "Epoch 12/20\n",
      " - 7s - loss: 0.0432 - acc: 0.9868 - val_loss: 0.0749 - val_acc: 0.9809\n",
      "Epoch 13/20\n",
      " - 7s - loss: 0.0428 - acc: 0.9872 - val_loss: 0.0838 - val_acc: 0.9816\n",
      "Epoch 14/20\n",
      " - 7s - loss: 0.0396 - acc: 0.9877 - val_loss: 0.0690 - val_acc: 0.9840\n",
      "Epoch 15/20\n",
      " - 7s - loss: 0.0358 - acc: 0.9886 - val_loss: 0.0805 - val_acc: 0.9817\n",
      "Epoch 16/20\n",
      " - 7s - loss: 0.0355 - acc: 0.9896 - val_loss: 0.0770 - val_acc: 0.9840\n",
      "Epoch 17/20\n",
      " - 7s - loss: 0.0367 - acc: 0.9894 - val_loss: 0.0786 - val_acc: 0.9827\n",
      "Epoch 18/20\n",
      " - 7s - loss: 0.0348 - acc: 0.9898 - val_loss: 0.0672 - val_acc: 0.9844\n",
      "Epoch 19/20\n",
      " - 7s - loss: 0.0321 - acc: 0.9901 - val_loss: 0.0713 - val_acc: 0.9843\n",
      "Epoch 20/20\n",
      " - 7s - loss: 0.0319 - acc: 0.9906 - val_loss: 0.0762 - val_acc: 0.9841\n",
      "Training duration : 138.14808821678162\n",
      "10000/10000 [==============================] - 2s 177us/step\n",
      "Network's test score [loss, accuracy]: [0.0761613928864855, 0.9841]\n"
     ]
    }
   ],
   "source": [
    "model, losses = run_network(data=data)"
   ]
  },
  {
   "cell_type": "code",
   "execution_count": 14,
   "metadata": {},
   "outputs": [
    {
     "data": {
      "image/png": "[encoded data removed]",
      "text/plain": [
       "<matplotlib.figure.Figure at 0x7f6a0d9c81d0>"
      ]
     },
     "metadata": {},
     "output_type": "display_data"
    }
   ],
   "source": [
    "plot_losses(losses)"
   ]
  },
  {
   "cell_type": "code",
   "execution_count": 15,
   "metadata": {},
   "outputs": [
    {
     "name": "stdout",
     "output_type": "stream",
     "text": [
      "Compiling Model ... \n",
      "Model compield in 0.14844536781311035 seconds\n",
      "Training model...\n",
      "Train on 60000 samples, validate on 10000 samples\n",
      "Epoch 1/30\n",
      " - 10s - loss: 0.3570 - acc: 0.8900 - val_loss: 0.1437 - val_acc: 0.9550\n",
      "Epoch 2/30\n",
      " - 11s - loss: 0.1512 - acc: 0.9543 - val_loss: 0.1004 - val_acc: 0.9684\n",
      "Epoch 3/30\n",
      " - 10s - loss: 0.1137 - acc: 0.9649 - val_loss: 0.0785 - val_acc: 0.9770\n",
      "Epoch 4/30\n",
      " - 11s - loss: 0.0931 - acc: 0.9714 - val_loss: 0.0782 - val_acc: 0.9765\n",
      "Epoch 5/30\n",
      " - 8s - loss: 0.0816 - acc: 0.9750 - val_loss: 0.0699 - val_acc: 0.9787\n",
      "Epoch 6/30\n",
      " - 8s - loss: 0.0726 - acc: 0.9779 - val_loss: 0.0691 - val_acc: 0.9803\n",
      "Epoch 7/30\n",
      " - 8s - loss: 0.0655 - acc: 0.9803 - val_loss: 0.0667 - val_acc: 0.9814\n",
      "Epoch 8/30\n",
      " - 7s - loss: 0.0580 - acc: 0.9820 - val_loss: 0.0664 - val_acc: 0.9828\n",
      "Epoch 9/30\n",
      " - 7s - loss: 0.0560 - acc: 0.9827 - val_loss: 0.0694 - val_acc: 0.9828\n",
      "Epoch 10/30\n",
      " - 7s - loss: 0.0504 - acc: 0.9844 - val_loss: 0.0655 - val_acc: 0.9828\n",
      "Epoch 11/30\n",
      " - 7s - loss: 0.0463 - acc: 0.9862 - val_loss: 0.0763 - val_acc: 0.9814\n",
      "Epoch 12/30\n",
      " - 7s - loss: 0.0438 - acc: 0.9861 - val_loss: 0.0726 - val_acc: 0.9846\n",
      "Epoch 13/30\n",
      " - 8s - loss: 0.0421 - acc: 0.9872 - val_loss: 0.0744 - val_acc: 0.9831\n",
      "Epoch 14/30\n",
      " - 7s - loss: 0.0405 - acc: 0.9877 - val_loss: 0.0728 - val_acc: 0.9831\n",
      "Epoch 15/30\n",
      " - 7s - loss: 0.0382 - acc: 0.9883 - val_loss: 0.0765 - val_acc: 0.9833\n",
      "Epoch 16/30\n",
      " - 7s - loss: 0.0372 - acc: 0.9891 - val_loss: 0.0719 - val_acc: 0.9828\n",
      "Epoch 17/30\n",
      " - 7s - loss: 0.0339 - acc: 0.9896 - val_loss: 0.0798 - val_acc: 0.9834\n",
      "Epoch 18/30\n",
      " - 7s - loss: 0.0347 - acc: 0.9895 - val_loss: 0.0729 - val_acc: 0.9842\n",
      "Epoch 19/30\n",
      " - 7s - loss: 0.0316 - acc: 0.9903 - val_loss: 0.0800 - val_acc: 0.9827\n",
      "Epoch 20/30\n",
      " - 7s - loss: 0.0330 - acc: 0.9901 - val_loss: 0.0754 - val_acc: 0.9845\n",
      "Epoch 21/30\n",
      " - 9s - loss: 0.0293 - acc: 0.9914 - val_loss: 0.0817 - val_acc: 0.9837\n",
      "Epoch 22/30\n",
      " - 9s - loss: 0.0307 - acc: 0.9914 - val_loss: 0.0776 - val_acc: 0.9845\n",
      "Epoch 23/30\n",
      " - 8s - loss: 0.0292 - acc: 0.9915 - val_loss: 0.0800 - val_acc: 0.9834\n",
      "Epoch 24/30\n",
      " - 7s - loss: 0.0282 - acc: 0.9914 - val_loss: 0.0855 - val_acc: 0.9844\n",
      "Epoch 25/30\n",
      " - 7s - loss: 0.0310 - acc: 0.9914 - val_loss: 0.0790 - val_acc: 0.9848\n",
      "Epoch 26/30\n",
      " - 7s - loss: 0.0290 - acc: 0.9917 - val_loss: 0.0791 - val_acc: 0.9852\n",
      "Epoch 27/30\n",
      " - 7s - loss: 0.0263 - acc: 0.9925 - val_loss: 0.0782 - val_acc: 0.9862\n",
      "Epoch 28/30\n",
      " - 7s - loss: 0.0274 - acc: 0.9922 - val_loss: 0.0838 - val_acc: 0.9845\n",
      "Epoch 29/30\n",
      " - 8s - loss: 0.0254 - acc: 0.9926 - val_loss: 0.0972 - val_acc: 0.9825\n",
      "Epoch 30/30\n",
      " - 10s - loss: 0.0248 - acc: 0.9930 - val_loss: 0.0793 - val_acc: 0.9850\n",
      "Training duration : 238.17194485664368\n",
      "10000/10000 [==============================] - 2s 234us/step\n",
      "Network's test score [loss, accuracy]: [0.07930085619526663, 0.985]\n"
     ]
    },
    {
     "data": {
      "image/png": "[encoded data removed]",
      "text/plain": [
       "<matplotlib.figure.Figure at 0x7f6a0d9d2e80>"
      ]
     },
     "metadata": {},
     "output_type": "display_data"
    }
   ],
   "source": [
    "model, losses = run_network(data=data, epochs=30)\n",
    "plot_losses(losses)"
   ]
  },
  {
   "cell_type": "code",
   "execution_count": 16,
   "metadata": {},
   "outputs": [
    {
     "name": "stdout",
     "output_type": "stream",
     "text": [
      "Compiling Model ... \n",
      "Model compield in 0.1518268585205078 seconds\n",
      "Training model...\n",
      "Train on 60000 samples, validate on 10000 samples\n",
      "Epoch 1/30\n",
      " - 6s - loss: 0.4374 - acc: 0.8654 - val_loss: 0.1904 - val_acc: 0.9439\n",
      "Epoch 2/30\n",
      " - 5s - loss: 0.1804 - acc: 0.9461 - val_loss: 0.1456 - val_acc: 0.9521\n",
      "Epoch 3/30\n",
      " - 8s - loss: 0.1285 - acc: 0.9612 - val_loss: 0.0985 - val_acc: 0.9680\n",
      "Epoch 4/30\n",
      " - 9s - loss: 0.1011 - acc: 0.9694 - val_loss: 0.0782 - val_acc: 0.9762\n",
      "Epoch 5/30\n",
      " - 7s - loss: 0.0850 - acc: 0.9740 - val_loss: 0.0784 - val_acc: 0.9769\n",
      "Epoch 6/30\n",
      " - 7s - loss: 0.0731 - acc: 0.9775 - val_loss: 0.0670 - val_acc: 0.9782\n",
      "Epoch 7/30\n",
      " - 7s - loss: 0.0647 - acc: 0.9801 - val_loss: 0.0632 - val_acc: 0.9804\n",
      "Epoch 8/30\n",
      " - 7s - loss: 0.0585 - acc: 0.9812 - val_loss: 0.0669 - val_acc: 0.9815\n",
      "Epoch 9/30\n",
      " - 7s - loss: 0.0525 - acc: 0.9833 - val_loss: 0.0764 - val_acc: 0.9779\n",
      "Epoch 10/30\n",
      " - 6s - loss: 0.0469 - acc: 0.9851 - val_loss: 0.0616 - val_acc: 0.9818\n",
      "Epoch 11/30\n",
      " - 6s - loss: 0.0438 - acc: 0.9858 - val_loss: 0.0636 - val_acc: 0.9826\n",
      "Epoch 12/30\n",
      " - 6s - loss: 0.0406 - acc: 0.9872 - val_loss: 0.0686 - val_acc: 0.9826\n",
      "Epoch 13/30\n",
      " - 6s - loss: 0.0387 - acc: 0.9882 - val_loss: 0.0636 - val_acc: 0.9822\n",
      "Epoch 14/30\n",
      " - 5s - loss: 0.0368 - acc: 0.9886 - val_loss: 0.0593 - val_acc: 0.9852\n",
      "Epoch 15/30\n",
      " - 5s - loss: 0.0335 - acc: 0.9893 - val_loss: 0.0591 - val_acc: 0.9853\n",
      "Epoch 16/30\n",
      " - 6s - loss: 0.0319 - acc: 0.9898 - val_loss: 0.0613 - val_acc: 0.9847\n",
      "Epoch 17/30\n",
      " - 7s - loss: 0.0304 - acc: 0.9901 - val_loss: 0.0569 - val_acc: 0.9845\n",
      "Epoch 18/30\n",
      " - 7s - loss: 0.0271 - acc: 0.9909 - val_loss: 0.0674 - val_acc: 0.9832\n",
      "Epoch 19/30\n",
      " - 9s - loss: 0.0259 - acc: 0.9918 - val_loss: 0.0705 - val_acc: 0.9834\n",
      "Epoch 20/30\n",
      " - 8s - loss: 0.0261 - acc: 0.9917 - val_loss: 0.0686 - val_acc: 0.9844\n",
      "Epoch 21/30\n",
      " - 7s - loss: 0.0239 - acc: 0.9924 - val_loss: 0.0639 - val_acc: 0.9849\n",
      "Epoch 22/30\n",
      " - 7s - loss: 0.0244 - acc: 0.9921 - val_loss: 0.0634 - val_acc: 0.9851\n",
      "Epoch 23/30\n",
      " - 6s - loss: 0.0234 - acc: 0.9923 - val_loss: 0.0625 - val_acc: 0.9860\n",
      "Epoch 24/30\n",
      " - 5s - loss: 0.0225 - acc: 0.9930 - val_loss: 0.0716 - val_acc: 0.9841\n",
      "Epoch 25/30\n",
      " - 6s - loss: 0.0226 - acc: 0.9931 - val_loss: 0.0692 - val_acc: 0.9855\n",
      "Epoch 26/30\n",
      " - 6s - loss: 0.0217 - acc: 0.9931 - val_loss: 0.0706 - val_acc: 0.9844\n",
      "Epoch 27/30\n",
      " - 6s - loss: 0.0208 - acc: 0.9930 - val_loss: 0.0756 - val_acc: 0.9843\n",
      "Epoch 28/30\n",
      " - 5s - loss: 0.0192 - acc: 0.9935 - val_loss: 0.0835 - val_acc: 0.9836\n",
      "Epoch 29/30\n",
      " - 5s - loss: 0.0186 - acc: 0.9945 - val_loss: 0.0868 - val_acc: 0.9828\n",
      "Epoch 30/30\n",
      " - 5s - loss: 0.0180 - acc: 0.9941 - val_loss: 0.0764 - val_acc: 0.9844\n",
      "Training duration : 195.61782956123352\n",
      "10000/10000 [==============================] - 2s 161us/step\n",
      "Network's test score [loss, accuracy]: [0.07637698431324015, 0.9844]\n"
     ]
    },
    {
     "data": {
      "image/png": "[encoded data removed]",
      "text/plain": [
       "<matplotlib.figure.Figure at 0x7f6a05bad588>"
      ]
     },
     "metadata": {},
     "output_type": "display_data"
    }
   ],
   "source": [
    "model, losses = run_network(data=data, epochs=30, batch=512)\n",
    "plot_losses(losses)"
   ]
  },
  {
   "cell_type": "code",
   "execution_count": 17,
   "metadata": {},
   "outputs": [
    {
     "name": "stdout",
     "output_type": "stream",
     "text": [
      "Compiling Model ... \n",
      "Model compield in 0.14574050903320312 seconds\n",
      "Training model...\n",
      "Train on 60000 samples, validate on 10000 samples\n",
      "Epoch 1/30\n",
      " - 14s - loss: 0.3111 - acc: 0.9034 - val_loss: 0.1165 - val_acc: 0.9643\n",
      "Epoch 2/30\n",
      " - 15s - loss: 0.1446 - acc: 0.9569 - val_loss: 0.0956 - val_acc: 0.9708\n",
      "Epoch 3/30\n",
      " - 11s - loss: 0.1111 - acc: 0.9675 - val_loss: 0.0980 - val_acc: 0.9711\n",
      "Epoch 4/30\n",
      " - 14s - loss: 0.0959 - acc: 0.9720 - val_loss: 0.0771 - val_acc: 0.9784\n",
      "Epoch 5/30\n",
      " - 14s - loss: 0.0845 - acc: 0.9758 - val_loss: 0.0780 - val_acc: 0.9802\n",
      "Epoch 6/30\n",
      " - 11s - loss: 0.0782 - acc: 0.9779 - val_loss: 0.0779 - val_acc: 0.9798\n",
      "Epoch 7/30\n",
      " - 11s - loss: 0.0736 - acc: 0.9786 - val_loss: 0.0740 - val_acc: 0.9802\n",
      "Epoch 8/30\n",
      " - 12s - loss: 0.0670 - acc: 0.9810 - val_loss: 0.0825 - val_acc: 0.9803\n",
      "Epoch 9/30\n",
      " - 12s - loss: 0.0638 - acc: 0.9819 - val_loss: 0.0720 - val_acc: 0.9823\n",
      "Epoch 10/30\n",
      " - 10s - loss: 0.0609 - acc: 0.9832 - val_loss: 0.0802 - val_acc: 0.9800\n",
      "Epoch 11/30\n",
      " - 9s - loss: 0.0600 - acc: 0.9837 - val_loss: 0.0842 - val_acc: 0.9809\n",
      "Epoch 12/30\n",
      " - 9s - loss: 0.0557 - acc: 0.9849 - val_loss: 0.0764 - val_acc: 0.9834\n",
      "Epoch 13/30\n",
      " - 9s - loss: 0.0542 - acc: 0.9859 - val_loss: 0.0800 - val_acc: 0.9819\n",
      "Epoch 14/30\n",
      " - 9s - loss: 0.0534 - acc: 0.9861 - val_loss: 0.0826 - val_acc: 0.9825\n",
      "Epoch 15/30\n",
      " - 9s - loss: 0.0523 - acc: 0.9861 - val_loss: 0.0832 - val_acc: 0.9832\n",
      "Epoch 16/30\n",
      " - 9s - loss: 0.0491 - acc: 0.9873 - val_loss: 0.0820 - val_acc: 0.9837\n",
      "Epoch 17/30\n",
      " - 9s - loss: 0.0496 - acc: 0.9868 - val_loss: 0.0912 - val_acc: 0.9826\n",
      "Epoch 18/30\n",
      " - 9s - loss: 0.0483 - acc: 0.9882 - val_loss: 0.0869 - val_acc: 0.9832\n",
      "Epoch 19/30\n",
      " - 9s - loss: 0.0454 - acc: 0.9883 - val_loss: 0.0924 - val_acc: 0.9829\n",
      "Epoch 20/30\n",
      " - 9s - loss: 0.0440 - acc: 0.9887 - val_loss: 0.0994 - val_acc: 0.9824\n",
      "Epoch 21/30\n",
      " - 9s - loss: 0.0469 - acc: 0.9887 - val_loss: 0.0950 - val_acc: 0.9825\n",
      "Epoch 22/30\n",
      " - 9s - loss: 0.0420 - acc: 0.9892 - val_loss: 0.1012 - val_acc: 0.9820\n",
      "Epoch 23/30\n",
      " - 9s - loss: 0.0410 - acc: 0.9895 - val_loss: 0.1025 - val_acc: 0.9833\n",
      "Epoch 24/30\n",
      " - 9s - loss: 0.0411 - acc: 0.9899 - val_loss: 0.1084 - val_acc: 0.9829\n",
      "Epoch 25/30\n",
      " - 9s - loss: 0.0412 - acc: 0.9900 - val_loss: 0.1123 - val_acc: 0.9833\n",
      "Epoch 26/30\n",
      " - 9s - loss: 0.0400 - acc: 0.9901 - val_loss: 0.1060 - val_acc: 0.9830\n",
      "Epoch 27/30\n",
      " - 9s - loss: 0.0404 - acc: 0.9903 - val_loss: 0.1063 - val_acc: 0.9842\n",
      "Epoch 28/30\n",
      " - 9s - loss: 0.0413 - acc: 0.9903 - val_loss: 0.1022 - val_acc: 0.9838\n",
      "Epoch 29/30\n",
      " - 9s - loss: 0.0379 - acc: 0.9904 - val_loss: 0.1118 - val_acc: 0.9837\n",
      "Epoch 30/30\n",
      " - 9s - loss: 0.0422 - acc: 0.9906 - val_loss: 0.1004 - val_acc: 0.9838\n",
      "Training duration : 302.60956478118896\n",
      "10000/10000 [==============================] - 2s 161us/step\n",
      "Network's test score [loss, accuracy]: [0.10038058018231036, 0.9838]\n"
     ]
    },
    {
     "data": {
      "image/png": "[encoded data removed]",
      "text/plain": [
       "<matplotlib.figure.Figure at 0x7f6a05b66278>"
      ]
     },
     "metadata": {},
     "output_type": "display_data"
    }
   ],
   "source": [
    "model, losses = run_network(data=data, epochs=30, batch=128)\n",
    "plot_losses(losses)"
   ]
  },
  {
   "cell_type": "code",
   "execution_count": null,
   "metadata": {},
   "outputs": [],
   "source": []
  }
 ],
 "metadata": {
  "kernelspec": {
   "display_name": "Python 3",
   "language": "python",
   "name": "python3"
  },
  "language_info": {
   "codemirror_mode": {
    "name": "ipython",
    "version": 3
   },
   "file_extension": ".py",
   "mimetype": "text/x-python",
   "name": "python",
   "nbconvert_exporter": "python",
   "pygments_lexer": "ipython3",
   "version": "3.6.3"
  }
 },
 "nbformat": 4,
 "nbformat_minor": 2
}
