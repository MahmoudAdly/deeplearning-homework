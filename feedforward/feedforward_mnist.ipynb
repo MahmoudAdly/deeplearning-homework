{
 "cells": [
  {
   "cell_type": "code",
   "execution_count": 1,
   "metadata": {
    "scrolled": true
   },
   "outputs": [
    {
     "name": "stderr",
     "output_type": "stream",
     "text": [
      "/opt/conda/lib/python3.6/site-packages/h5py/__init__.py:36: FutureWarning: Conversion of the second argument of issubdtype from `float` to `np.floating` is deprecated. In future, it will be treated as `np.float64 == np.dtype(float).type`.\n",
      "  from ._conv import register_converters as _register_converters\n",
      "Using TensorFlow backend.\n"
     ]
    }
   ],
   "source": [
    "import time\n",
    "import numpy as np\n",
    "from matplotlib import pyplot as plt\n",
    "from keras.utils import np_utils\n",
    "import keras.callbacks as cb\n",
    "from keras.models import Sequential\n",
    "from keras.layers.core import Dense, Dropout, Activation\n",
    "from keras.optimizers import RMSprop\n",
    "from keras.datasets import mnist"
   ]
  },
  {
   "cell_type": "markdown",
   "metadata": {},
   "source": [
    "## Training methods"
   ]
  },
  {
   "cell_type": "code",
   "execution_count": 2,
   "metadata": {},
   "outputs": [],
   "source": [
    "def load_and_prepare_data():\n",
    "    print('Loading data...')\n",
    "    \n",
    "    # Keras provides MNIST dataset as two tuples for training and testing sets.\n",
    "    # https://keras.io/datasets/#mnist-database-of-handwritten-digits\n",
    "    (X_train, y_train), (X_test, y_test) = mnist.load_data()\n",
    "    \n",
    "    print('Done.')\n",
    "    print('Preparing data...')\n",
    "\n",
    "    # The input datasets should have values between 0-1 instead of having a range of 0-255.\n",
    "    # This requires typecasting them from int to float at first.\n",
    "    X_train = X_train.astype('float32')\n",
    "    X_test = X_test.astype('float32')\n",
    "    X_train /= 255\n",
    "    X_test /= 255\n",
    "\n",
    "    # The output datasets should be converted from simply having a value between 0-9 to having\n",
    "    # a matrix of categorical one-hot encoding. Example:\n",
    "    # 2 -> [0 0 1 0 0 0 0 0 0 0]\n",
    "    # 9 -> [0 0 1 0 0 0 0 0 0 9]\n",
    "    y_train = np_utils.to_categorical(y_train, 10)\n",
    "    y_test = np_utils.to_categorical(y_test, 10)\n",
    "\n",
    "    # The MINST input is 28x28 grayscale images. Let's convert them to single row vectors.\n",
    "    X_train = np.reshape(X_train, (60000, 784))\n",
    "    X_test = np.reshape(X_test, (10000, 784))\n",
    "\n",
    "    print('Done.')\n",
    "    return [X_train, X_test, y_train, y_test]"
   ]
  },
  {
   "cell_type": "code",
   "execution_count": 3,
   "metadata": {},
   "outputs": [],
   "source": [
    "def compile_model():\n",
    "    print('Compiling model...')\n",
    "    \n",
    "    start_time = time.time()\n",
    "    \n",
    "    model = Sequential()\n",
    "    model.add(Dense(500, input_dim=784))\n",
    "    model.add(Activation('relu'))\n",
    "    model.add(Dropout(0.4))\n",
    "    model.add(Dense(300))\n",
    "    model.add(Activation('relu'))\n",
    "    model.add(Dropout(0.4))\n",
    "    model.add(Dense(10))\n",
    "    model.add(Activation('softmax'))\n",
    "\n",
    "    rms = RMSprop()\n",
    "    model.compile(loss='categorical_crossentropy', optimizer=rms, metrics=['accuracy'])\n",
    "\n",
    "    print('Model compiled in {0} seconds.'.format(time.time() - start_time))\n",
    "    return model"
   ]
  },
  {
   "cell_type": "code",
   "execution_count": 4,
   "metadata": {},
   "outputs": [],
   "source": [
    "class loss_history_callback(cb.Callback):\n",
    "    def on_train_begin(self, logs={}):\n",
    "        self.losses = []\n",
    "\n",
    "    def on_batch_end(self, batch, logs={}):\n",
    "        batch_loss = logs.get('loss')\n",
    "        self.losses.append(batch_loss)"
   ]
  },
  {
   "cell_type": "code",
   "execution_count": 5,
   "metadata": {},
   "outputs": [],
   "source": [
    "def train_model(model=None, data=None, epochs=20, batch=256):\n",
    "    try:\n",
    "        start_time = time.time()\n",
    "\n",
    "        X_train, X_test, y_train, y_test = data\n",
    "\n",
    "        print('Training model...')\n",
    "\n",
    "        loss_history = loss_history_callback()\n",
    "        model.fit(X_train, y_train, epochs=epochs, batch_size=batch,\n",
    "                  callbacks=[loss_history],\n",
    "                  validation_data=(X_test, y_test), verbose=2)\n",
    "\n",
    "        print(\"Training duration : {0} seconds.\".format(time.time() - start_time))\n",
    "\n",
    "        score = model.evaluate(X_test, y_test, batch_size=16)\n",
    "\n",
    "        print(\"Model's test score [loss, accuracy]: {0}\".format(score))\n",
    "\n",
    "        return model, loss_history.losses\n",
    "    except KeyboardInterrupt:\n",
    "        # This way we can interrupt the model training at any time without losing data collected so far.\n",
    "        print('>>> KeyboardInterrupt')\n",
    "        return model, loss_history.losses"
   ]
  },
  {
   "cell_type": "code",
   "execution_count": 6,
   "metadata": {},
   "outputs": [],
   "source": [
    "# Use the losses collected through the history callback method to plot results.\n",
    "def plot_losses(losses):\n",
    "    fig = plt.figure()\n",
    "    ax = fig.add_subplot(111)\n",
    "    ax.plot(losses)\n",
    "    ax.set_title('Loss per batch')"
   ]
  },
  {
   "cell_type": "markdown",
   "metadata": {},
   "source": [
    "## Training the model with different hyperparameters"
   ]
  },
  {
   "cell_type": "code",
   "execution_count": 7,
   "metadata": {},
   "outputs": [
    {
     "name": "stdout",
     "output_type": "stream",
     "text": [
      "Loading data...\n",
      "Downloading data from https://s3.amazonaws.com/img-datasets/mnist.npz\n",
      "11493376/11490434 [==============================] - 3s 0us/step\n",
      "Done.\n",
      "Preparing data...\n",
      "Done.\n"
     ]
    }
   ],
   "source": [
    "data = load_and_prepare_data()"
   ]
  },
  {
   "cell_type": "markdown",
   "metadata": {},
   "source": [
    "### Trial 1"
   ]
  },
  {
   "cell_type": "code",
   "execution_count": 8,
   "metadata": {},
   "outputs": [
    {
     "name": "stdout",
     "output_type": "stream",
     "text": [
      "Compiling model...\n",
      "Model compield in 0.14888596534729004 seconds.\n",
      "Training model...\n",
      "Train on 60000 samples, validate on 10000 samples\n",
      "Epoch 1/20\n",
      " - 7s - loss: 0.3536 - acc: 0.8914 - val_loss: 0.1571 - val_acc: 0.9510\n",
      "Epoch 2/20\n",
      " - 6s - loss: 0.1558 - acc: 0.9532 - val_loss: 0.1012 - val_acc: 0.9669\n",
      "Epoch 3/20\n",
      " - 6s - loss: 0.1151 - acc: 0.9652 - val_loss: 0.0877 - val_acc: 0.9720\n",
      "Epoch 4/20\n",
      " - 6s - loss: 0.0953 - acc: 0.9710 - val_loss: 0.0814 - val_acc: 0.9758\n",
      "Epoch 5/20\n",
      " - 6s - loss: 0.0810 - acc: 0.9755 - val_loss: 0.0733 - val_acc: 0.9789\n",
      "Epoch 6/20\n",
      " - 6s - loss: 0.0716 - acc: 0.9780 - val_loss: 0.0789 - val_acc: 0.9781\n",
      "Epoch 7/20\n",
      " - 6s - loss: 0.0644 - acc: 0.9808 - val_loss: 0.0652 - val_acc: 0.9831\n",
      "Epoch 8/20\n",
      " - 6s - loss: 0.0575 - acc: 0.9823 - val_loss: 0.0658 - val_acc: 0.9828\n",
      "Epoch 9/20\n",
      " - 6s - loss: 0.0540 - acc: 0.9830 - val_loss: 0.0677 - val_acc: 0.9824\n",
      "Epoch 10/20\n",
      " - 9s - loss: 0.0490 - acc: 0.9847 - val_loss: 0.0709 - val_acc: 0.9824\n",
      "Epoch 11/20\n",
      " - 7s - loss: 0.0465 - acc: 0.9861 - val_loss: 0.0711 - val_acc: 0.9827\n",
      "Epoch 12/20\n",
      " - 7s - loss: 0.0474 - acc: 0.9860 - val_loss: 0.0696 - val_acc: 0.9828\n",
      "Epoch 13/20\n",
      " - 7s - loss: 0.0433 - acc: 0.9872 - val_loss: 0.0701 - val_acc: 0.9834\n",
      "Epoch 14/20\n",
      " - 6s - loss: 0.0394 - acc: 0.9882 - val_loss: 0.0743 - val_acc: 0.9827\n",
      "Epoch 15/20\n",
      " - 7s - loss: 0.0396 - acc: 0.9882 - val_loss: 0.0706 - val_acc: 0.9834\n",
      "Epoch 16/20\n",
      " - 7s - loss: 0.0352 - acc: 0.9893 - val_loss: 0.0757 - val_acc: 0.9846\n",
      "Epoch 17/20\n",
      " - 6s - loss: 0.0348 - acc: 0.9893 - val_loss: 0.0747 - val_acc: 0.9832\n",
      "Epoch 18/20\n",
      " - 6s - loss: 0.0357 - acc: 0.9896 - val_loss: 0.0762 - val_acc: 0.9839\n",
      "Epoch 19/20\n",
      " - 6s - loss: 0.0345 - acc: 0.9897 - val_loss: 0.0709 - val_acc: 0.9853\n",
      "Epoch 20/20\n",
      " - 6s - loss: 0.0342 - acc: 0.9898 - val_loss: 0.0705 - val_acc: 0.9848\n",
      "Training duration : 131.75203776359558 seconds.\n",
      "10000/10000 [==============================] - 2s 167us/step\n",
      "Model's test score [loss, accuracy]: [0.07048261645096685, 0.9848]\n"
     ]
    },
    {
     "data": {
      "image/png": "[encoded data removed]",
      "text/plain": [
       "<matplotlib.figure.Figure at 0x7f1ecc383eb8>"
      ]
     },
     "metadata": {},
     "output_type": "display_data"
    }
   ],
   "source": [
    "# 20 epochs and 256 batches\n",
    "model = compile_model()\n",
    "model, losses = train_model(model=model, data=data)\n",
    "plot_losses(losses)"
   ]
  },
  {
   "cell_type": "markdown",
   "metadata": {},
   "source": [
    "### Trial 2"
   ]
  },
  {
   "cell_type": "code",
   "execution_count": 9,
   "metadata": {},
   "outputs": [
    {
     "name": "stdout",
     "output_type": "stream",
     "text": [
      "Compiling model...\n",
      "Model compield in 0.15125203132629395 seconds.\n",
      "Training model...\n",
      "Train on 60000 samples, validate on 10000 samples\n",
      "Epoch 1/30\n",
      " - 7s - loss: 0.3543 - acc: 0.8920 - val_loss: 0.1408 - val_acc: 0.9572\n",
      "Epoch 2/30\n",
      " - 6s - loss: 0.1526 - acc: 0.9537 - val_loss: 0.1069 - val_acc: 0.9676\n",
      "Epoch 3/30\n",
      " - 6s - loss: 0.1136 - acc: 0.9659 - val_loss: 0.0820 - val_acc: 0.9751\n",
      "Epoch 4/30\n",
      " - 8s - loss: 0.0898 - acc: 0.9727 - val_loss: 0.0738 - val_acc: 0.9769\n",
      "Epoch 5/30\n",
      " - 9s - loss: 0.0771 - acc: 0.9769 - val_loss: 0.0704 - val_acc: 0.9786\n",
      "Epoch 6/30\n",
      " - 9s - loss: 0.0707 - acc: 0.9786 - val_loss: 0.0709 - val_acc: 0.9805\n",
      "Epoch 7/30\n",
      " - 8s - loss: 0.0625 - acc: 0.9815 - val_loss: 0.0759 - val_acc: 0.9793\n",
      "Epoch 8/30\n",
      " - 8s - loss: 0.0571 - acc: 0.9821 - val_loss: 0.0667 - val_acc: 0.9823\n",
      "Epoch 9/30\n",
      " - 8s - loss: 0.0525 - acc: 0.9842 - val_loss: 0.0692 - val_acc: 0.9825\n",
      "Epoch 10/30\n",
      " - 8s - loss: 0.0495 - acc: 0.9853 - val_loss: 0.0713 - val_acc: 0.9822\n",
      "Epoch 11/30\n",
      " - 8s - loss: 0.0459 - acc: 0.9863 - val_loss: 0.0739 - val_acc: 0.9828\n",
      "Epoch 12/30\n",
      " - 8s - loss: 0.0445 - acc: 0.9866 - val_loss: 0.0736 - val_acc: 0.9830\n",
      "Epoch 13/30\n",
      " - 8s - loss: 0.0412 - acc: 0.9877 - val_loss: 0.0748 - val_acc: 0.9836\n",
      "Epoch 14/30\n",
      " - 8s - loss: 0.0395 - acc: 0.9885 - val_loss: 0.0761 - val_acc: 0.9827\n",
      "Epoch 15/30\n",
      " - 10s - loss: 0.0379 - acc: 0.9883 - val_loss: 0.0886 - val_acc: 0.9819\n",
      "Epoch 16/30\n",
      " - 9s - loss: 0.0392 - acc: 0.9887 - val_loss: 0.0780 - val_acc: 0.9844\n",
      "Epoch 17/30\n",
      " - 8s - loss: 0.0345 - acc: 0.9898 - val_loss: 0.0782 - val_acc: 0.9833\n",
      "Epoch 18/30\n",
      " - 8s - loss: 0.0311 - acc: 0.9907 - val_loss: 0.0747 - val_acc: 0.9843\n",
      "Epoch 19/30\n",
      " - 8s - loss: 0.0336 - acc: 0.9900 - val_loss: 0.0744 - val_acc: 0.9844\n",
      "Epoch 20/30\n",
      " - 8s - loss: 0.0310 - acc: 0.9912 - val_loss: 0.0877 - val_acc: 0.9829\n",
      "Epoch 21/30\n",
      " - 8s - loss: 0.0306 - acc: 0.9909 - val_loss: 0.0803 - val_acc: 0.9842\n",
      "Epoch 22/30\n",
      " - 8s - loss: 0.0301 - acc: 0.9916 - val_loss: 0.0900 - val_acc: 0.9839\n",
      "Epoch 23/30\n",
      " - 9s - loss: 0.0312 - acc: 0.9910 - val_loss: 0.0933 - val_acc: 0.9841\n",
      "Epoch 24/30\n",
      " - 9s - loss: 0.0280 - acc: 0.9918 - val_loss: 0.0909 - val_acc: 0.9836\n",
      "Epoch 25/30\n",
      " - 12s - loss: 0.0297 - acc: 0.9913 - val_loss: 0.0849 - val_acc: 0.9853\n",
      "Epoch 26/30\n",
      " - 11s - loss: 0.0275 - acc: 0.9920 - val_loss: 0.0921 - val_acc: 0.9845\n",
      "Epoch 27/30\n",
      " - 9s - loss: 0.0291 - acc: 0.9920 - val_loss: 0.0858 - val_acc: 0.9841\n",
      "Epoch 28/30\n",
      " - 9s - loss: 0.0266 - acc: 0.9927 - val_loss: 0.0872 - val_acc: 0.9843\n",
      "Epoch 29/30\n",
      " - 9s - loss: 0.0286 - acc: 0.9923 - val_loss: 0.0856 - val_acc: 0.9835\n",
      "Epoch 30/30\n",
      " - 8s - loss: 0.0258 - acc: 0.9926 - val_loss: 0.0889 - val_acc: 0.9845\n",
      "Training duration : 249.55078792572021 seconds.\n",
      "10000/10000 [==============================] - 2s 215us/step\n",
      "Model's test score [loss, accuracy]: [0.08889142726461209, 0.9845]\n"
     ]
    },
    {
     "data": {
      "image/png": "[encoded data removed]",
      "text/plain": [
       "<matplotlib.figure.Figure at 0x7f1ecb13e908>"
      ]
     },
     "metadata": {},
     "output_type": "display_data"
    }
   ],
   "source": [
    "# 30 epochs and 256 batches\n",
    "model = compile_model()\n",
    "model, losses = train_model(model=model, data=data, epochs=30)\n",
    "plot_losses(losses)"
   ]
  },
  {
   "cell_type": "markdown",
   "metadata": {},
   "source": [
    "### Trial 3"
   ]
  },
  {
   "cell_type": "code",
   "execution_count": 10,
   "metadata": {},
   "outputs": [
    {
     "name": "stdout",
     "output_type": "stream",
     "text": [
      "Compiling model...\n",
      "Model compield in 0.2608358860015869 seconds.\n",
      "Training model...\n",
      "Train on 60000 samples, validate on 10000 samples\n",
      "Epoch 1/30\n",
      " - 8s - loss: 0.4407 - acc: 0.8640 - val_loss: 0.1886 - val_acc: 0.9417\n",
      "Epoch 2/30\n",
      " - 7s - loss: 0.1844 - acc: 0.9445 - val_loss: 0.1187 - val_acc: 0.9637\n",
      "Epoch 3/30\n",
      " - 9s - loss: 0.1326 - acc: 0.9599 - val_loss: 0.1216 - val_acc: 0.9619\n",
      "Epoch 4/30\n",
      " - 9s - loss: 0.1047 - acc: 0.9683 - val_loss: 0.0804 - val_acc: 0.9749\n",
      "Epoch 5/30\n",
      " - 8s - loss: 0.0895 - acc: 0.9721 - val_loss: 0.0740 - val_acc: 0.9769\n",
      "Epoch 6/30\n",
      " - 9s - loss: 0.0764 - acc: 0.9761 - val_loss: 0.0696 - val_acc: 0.9799\n",
      "Epoch 7/30\n",
      " - 8s - loss: 0.0663 - acc: 0.9793 - val_loss: 0.0705 - val_acc: 0.9793\n",
      "Epoch 8/30\n",
      " - 8s - loss: 0.0606 - acc: 0.9815 - val_loss: 0.0660 - val_acc: 0.9809\n",
      "Epoch 9/30\n",
      " - 8s - loss: 0.0548 - acc: 0.9826 - val_loss: 0.0654 - val_acc: 0.9818\n",
      "Epoch 10/30\n",
      " - 8s - loss: 0.0488 - acc: 0.9847 - val_loss: 0.0705 - val_acc: 0.9816\n",
      "Epoch 11/30\n",
      " - 8s - loss: 0.0467 - acc: 0.9852 - val_loss: 0.0715 - val_acc: 0.9788\n",
      "Epoch 12/30\n",
      " - 8s - loss: 0.0419 - acc: 0.9861 - val_loss: 0.0730 - val_acc: 0.9811\n",
      "Epoch 13/30\n",
      " - 8s - loss: 0.0397 - acc: 0.9877 - val_loss: 0.0799 - val_acc: 0.9798\n",
      "Epoch 14/30\n",
      " - 8s - loss: 0.0368 - acc: 0.9883 - val_loss: 0.0687 - val_acc: 0.9826\n",
      "Epoch 15/30\n",
      " - 6s - loss: 0.0353 - acc: 0.9888 - val_loss: 0.0707 - val_acc: 0.9830\n",
      "Epoch 16/30\n",
      " - 6s - loss: 0.0321 - acc: 0.9897 - val_loss: 0.0639 - val_acc: 0.9845\n",
      "Epoch 17/30\n",
      " - 5s - loss: 0.0313 - acc: 0.9900 - val_loss: 0.0621 - val_acc: 0.9853\n",
      "Epoch 18/30\n",
      " - 5s - loss: 0.0282 - acc: 0.9909 - val_loss: 0.0627 - val_acc: 0.9843\n",
      "Epoch 19/30\n",
      " - 5s - loss: 0.0283 - acc: 0.9905 - val_loss: 0.0704 - val_acc: 0.9829\n",
      "Epoch 20/30\n",
      " - 5s - loss: 0.0262 - acc: 0.9917 - val_loss: 0.0679 - val_acc: 0.9846\n",
      "Epoch 21/30\n",
      " - 5s - loss: 0.0255 - acc: 0.9914 - val_loss: 0.0734 - val_acc: 0.9840\n",
      "Epoch 22/30\n",
      " - 5s - loss: 0.0252 - acc: 0.9921 - val_loss: 0.0746 - val_acc: 0.9833\n",
      "Epoch 23/30\n",
      " - 5s - loss: 0.0242 - acc: 0.9924 - val_loss: 0.0766 - val_acc: 0.9836\n",
      "Epoch 24/30\n",
      " - 5s - loss: 0.0232 - acc: 0.9925 - val_loss: 0.0842 - val_acc: 0.9810\n",
      "Epoch 25/30\n",
      " - 6s - loss: 0.0218 - acc: 0.9926 - val_loss: 0.0751 - val_acc: 0.9847\n",
      "Epoch 26/30\n",
      " - 6s - loss: 0.0219 - acc: 0.9931 - val_loss: 0.0820 - val_acc: 0.9817\n",
      "Epoch 27/30\n",
      " - 6s - loss: 0.0199 - acc: 0.9936 - val_loss: 0.0818 - val_acc: 0.9842\n",
      "Epoch 28/30\n",
      " - 6s - loss: 0.0200 - acc: 0.9934 - val_loss: 0.0773 - val_acc: 0.9847\n",
      "Epoch 29/30\n",
      " - 6s - loss: 0.0196 - acc: 0.9937 - val_loss: 0.0857 - val_acc: 0.9834\n",
      "Epoch 30/30\n",
      " - 6s - loss: 0.0199 - acc: 0.9937 - val_loss: 0.0818 - val_acc: 0.9831\n",
      "Training duration : 201.71800875663757 seconds.\n",
      "10000/10000 [==============================] - 2s 197us/step\n",
      "Model's test score [loss, accuracy]: [0.08178046984867918, 0.9831]\n"
     ]
    },
    {
     "data": {
      "image/png": "[encoded data removed]",
      "text/plain": [
       "<matplotlib.figure.Figure at 0x7f1eb4561128>"
      ]
     },
     "metadata": {},
     "output_type": "display_data"
    }
   ],
   "source": [
    "model = compile_model()\n",
    "model, losses = train_model(model=model, data=data, epochs=30, batch=512)\n",
    "plot_losses(losses)"
   ]
  },
  {
   "cell_type": "markdown",
   "metadata": {},
   "source": [
    "### Trial 4"
   ]
  },
  {
   "cell_type": "code",
   "execution_count": 11,
   "metadata": {},
   "outputs": [
    {
     "name": "stdout",
     "output_type": "stream",
     "text": [
      "Compiling model...\n",
      "Model compield in 0.17516684532165527 seconds.\n",
      "Training model...\n",
      "Train on 60000 samples, validate on 10000 samples\n",
      "Epoch 1/30\n",
      " - 10s - loss: 0.3123 - acc: 0.9044 - val_loss: 0.1176 - val_acc: 0.9625\n",
      "Epoch 2/30\n",
      " - 9s - loss: 0.1405 - acc: 0.9571 - val_loss: 0.0857 - val_acc: 0.9727\n",
      "Epoch 3/30\n",
      " - 9s - loss: 0.1103 - acc: 0.9680 - val_loss: 0.0889 - val_acc: 0.9737\n",
      "Epoch 4/30\n",
      " - 9s - loss: 0.0938 - acc: 0.9722 - val_loss: 0.0735 - val_acc: 0.9796\n",
      "Epoch 5/30\n",
      " - 9s - loss: 0.0873 - acc: 0.9753 - val_loss: 0.0739 - val_acc: 0.9814\n",
      "Epoch 6/30\n",
      " - 10s - loss: 0.0802 - acc: 0.9778 - val_loss: 0.0849 - val_acc: 0.9800\n",
      "Epoch 7/30\n",
      " - 9s - loss: 0.0738 - acc: 0.9794 - val_loss: 0.0827 - val_acc: 0.9814\n",
      "Epoch 8/30\n",
      " - 9s - loss: 0.0682 - acc: 0.9809 - val_loss: 0.0823 - val_acc: 0.9808\n",
      "Epoch 9/30\n",
      " - 9s - loss: 0.0648 - acc: 0.9821 - val_loss: 0.0828 - val_acc: 0.9812\n",
      "Epoch 10/30\n",
      " - 9s - loss: 0.0620 - acc: 0.9832 - val_loss: 0.0822 - val_acc: 0.9820\n",
      "Epoch 11/30\n",
      " - 11s - loss: 0.0589 - acc: 0.9842 - val_loss: 0.0854 - val_acc: 0.9823\n",
      "Epoch 12/30\n",
      " - 10s - loss: 0.0585 - acc: 0.9841 - val_loss: 0.0922 - val_acc: 0.9806\n",
      "Epoch 13/30\n",
      " - 10s - loss: 0.0554 - acc: 0.9854 - val_loss: 0.0915 - val_acc: 0.9839\n",
      "Epoch 14/30\n",
      " - 11s - loss: 0.0544 - acc: 0.9862 - val_loss: 0.0873 - val_acc: 0.9831\n",
      "Epoch 15/30\n",
      " - 12s - loss: 0.0529 - acc: 0.9865 - val_loss: 0.0908 - val_acc: 0.9804\n",
      "Epoch 16/30\n",
      " - 15s - loss: 0.0507 - acc: 0.9866 - val_loss: 0.0852 - val_acc: 0.9828\n",
      "Epoch 17/30\n",
      " - 10s - loss: 0.0480 - acc: 0.9879 - val_loss: 0.0909 - val_acc: 0.9833\n",
      "Epoch 18/30\n",
      " - 9s - loss: 0.0481 - acc: 0.9878 - val_loss: 0.0975 - val_acc: 0.9827\n",
      "Epoch 19/30\n",
      " - 10s - loss: 0.0462 - acc: 0.9883 - val_loss: 0.0873 - val_acc: 0.9849\n",
      "Epoch 20/30\n",
      " - 10s - loss: 0.0463 - acc: 0.9880 - val_loss: 0.1039 - val_acc: 0.9829\n",
      "Epoch 21/30\n",
      " - 9s - loss: 0.0445 - acc: 0.9891 - val_loss: 0.1008 - val_acc: 0.9842\n",
      "Epoch 22/30\n",
      " - 10s - loss: 0.0462 - acc: 0.9886 - val_loss: 0.1065 - val_acc: 0.9823\n",
      "Epoch 23/30\n",
      " - 9s - loss: 0.0444 - acc: 0.9892 - val_loss: 0.1049 - val_acc: 0.9820\n",
      "Epoch 24/30\n",
      " - 9s - loss: 0.0430 - acc: 0.9899 - val_loss: 0.0935 - val_acc: 0.9832\n",
      "Epoch 25/30\n",
      " - 9s - loss: 0.0439 - acc: 0.9892 - val_loss: 0.1022 - val_acc: 0.9835\n",
      "Epoch 26/30\n",
      " - 8s - loss: 0.0408 - acc: 0.9907 - val_loss: 0.1087 - val_acc: 0.9837\n",
      "Epoch 27/30\n",
      " - 8s - loss: 0.0410 - acc: 0.9904 - val_loss: 0.1104 - val_acc: 0.9837\n",
      "Epoch 28/30\n",
      " - 9s - loss: 0.0433 - acc: 0.9898 - val_loss: 0.1089 - val_acc: 0.9824\n",
      "Epoch 29/30\n",
      " - 9s - loss: 0.0409 - acc: 0.9905 - val_loss: 0.1054 - val_acc: 0.9831\n",
      "Epoch 30/30\n",
      " - 8s - loss: 0.0411 - acc: 0.9905 - val_loss: 0.1142 - val_acc: 0.9824\n",
      "Training duration : 290.04571866989136 seconds.\n",
      "10000/10000 [==============================] - 2s 179us/step\n",
      "Model's test score [loss, accuracy]: [0.11417531994591566, 0.9824]\n"
     ]
    },
    {
     "data": {
      "image/png": "[encoded data removed]",
      "text/plain": [
       "<matplotlib.figure.Figure at 0x7f1e93b2bfd0>"
      ]
     },
     "metadata": {},
     "output_type": "display_data"
    }
   ],
   "source": [
    "model = compile_model()\n",
    "model, losses = train_model(model= model, data=data, epochs=30, batch=128)\n",
    "plot_losses(losses)"
   ]
  },
  {
   "cell_type": "markdown",
   "metadata": {},
   "source": [
    "### Trial 5"
   ]
  },
  {
   "cell_type": "code",
   "execution_count": 12,
   "metadata": {},
   "outputs": [
    {
     "name": "stdout",
     "output_type": "stream",
     "text": [
      "Compiling model...\n",
      "Model compield in 0.15524792671203613 seconds.\n",
      "Training model...\n",
      "Train on 60000 samples, validate on 10000 samples\n",
      "Epoch 1/20\n",
      " - 9s - loss: 0.3082 - acc: 0.9067 - val_loss: 0.1159 - val_acc: 0.9625\n",
      "Epoch 2/20\n",
      " - 9s - loss: 0.1438 - acc: 0.9572 - val_loss: 0.0996 - val_acc: 0.9711\n",
      "Epoch 3/20\n",
      " - 9s - loss: 0.1106 - acc: 0.9677 - val_loss: 0.0831 - val_acc: 0.9765\n",
      "Epoch 4/20\n",
      " - 9s - loss: 0.0975 - acc: 0.9724 - val_loss: 0.0844 - val_acc: 0.9767\n",
      "Epoch 5/20\n",
      " - 9s - loss: 0.0841 - acc: 0.9756 - val_loss: 0.0792 - val_acc: 0.9787\n",
      "Epoch 6/20\n",
      " - 10s - loss: 0.0772 - acc: 0.9781 - val_loss: 0.0759 - val_acc: 0.9806\n",
      "Epoch 7/20\n",
      " - 10s - loss: 0.0709 - acc: 0.9799 - val_loss: 0.0824 - val_acc: 0.9788\n",
      "Epoch 8/20\n",
      " - 8s - loss: 0.0671 - acc: 0.9803 - val_loss: 0.0733 - val_acc: 0.9825\n",
      "Epoch 9/20\n",
      " - 9s - loss: 0.0627 - acc: 0.9825 - val_loss: 0.0810 - val_acc: 0.9817\n",
      "Epoch 10/20\n",
      " - 10s - loss: 0.0626 - acc: 0.9836 - val_loss: 0.0780 - val_acc: 0.9824\n",
      "Epoch 11/20\n",
      " - 10s - loss: 0.0578 - acc: 0.9839 - val_loss: 0.0778 - val_acc: 0.9827\n",
      "Epoch 12/20\n",
      " - 9s - loss: 0.0532 - acc: 0.9854 - val_loss: 0.0838 - val_acc: 0.9834\n",
      "Epoch 13/20\n",
      " - 10s - loss: 0.0538 - acc: 0.9854 - val_loss: 0.0851 - val_acc: 0.9826\n",
      "Epoch 14/20\n",
      " - 11s - loss: 0.0544 - acc: 0.9862 - val_loss: 0.0889 - val_acc: 0.9827\n",
      "Epoch 15/20\n",
      " - 11s - loss: 0.0532 - acc: 0.9866 - val_loss: 0.0846 - val_acc: 0.9840\n",
      "Epoch 16/20\n",
      " - 12s - loss: 0.0495 - acc: 0.9874 - val_loss: 0.0875 - val_acc: 0.9846\n",
      "Epoch 17/20\n",
      " - 10s - loss: 0.0492 - acc: 0.9873 - val_loss: 0.0915 - val_acc: 0.9831\n",
      "Epoch 18/20\n",
      " - 10s - loss: 0.0488 - acc: 0.9878 - val_loss: 0.0834 - val_acc: 0.9838\n",
      "Epoch 19/20\n",
      " - 9s - loss: 0.0463 - acc: 0.9884 - val_loss: 0.0935 - val_acc: 0.9825\n",
      "Epoch 20/20\n",
      " - 9s - loss: 0.0461 - acc: 0.9884 - val_loss: 0.0863 - val_acc: 0.9843\n",
      "Training duration : 194.90190243721008 seconds.\n",
      "10000/10000 [==============================] - 2s 207us/step\n",
      "Model's test score [loss, accuracy]: [0.08627189959199222, 0.9843]\n"
     ]
    },
    {
     "data": {
      "image/png": "[encoded data removed]",
      "text/plain": [
       "<matplotlib.figure.Figure at 0x7f1e9367f588>"
      ]
     },
     "metadata": {},
     "output_type": "display_data"
    }
   ],
   "source": [
    "model = compile_model()\n",
    "model, losses = train_model(model= model, data=data, epochs=20, batch=128)\n",
    "plot_losses(losses)"
   ]
  },
  {
   "cell_type": "code",
   "execution_count": null,
   "metadata": {},
   "outputs": [],
   "source": []
  }
 ],
 "metadata": {
  "kernelspec": {
   "display_name": "Python 3",
   "language": "python",
   "name": "python3"
  },
  "language_info": {
   "codemirror_mode": {
    "name": "ipython",
    "version": 3
   },
   "file_extension": ".py",
   "mimetype": "text/x-python",
   "name": "python",
   "nbconvert_exporter": "python",
   "pygments_lexer": "ipython3",
   "version": "3.6.3"
  }
 },
 "nbformat": 4,
 "nbformat_minor": 2
}
