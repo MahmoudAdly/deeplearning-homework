{
 "cells": [
  {
   "cell_type": "code",
   "execution_count": 12,
   "metadata": {
    "scrolled": true
   },
   "outputs": [],
   "source": [
    "import numpy as np\n",
    "from keras.utils import np_utils\n",
    "from keras.models import Sequential\n",
    "from keras.layers import Conv2D, MaxPooling2D\n",
    "from keras.layers.core import Dense, Dropout, Activation, Flatten\n",
    "from keras.datasets import mnist\n",
    "from keras.optimizers import Adam\n",
    "from keras.layers import BatchNormalization\n",
    "import keras.callbacks as cb\n",
    "from matplotlib import pyplot as plt"
   ]
  },
  {
   "cell_type": "code",
   "execution_count": 2,
   "metadata": {},
   "outputs": [],
   "source": [
    "class LossHistory(cb.Callback):\n",
    "    def on_train_begin(self, logs={}):\n",
    "        self.losses = []\n",
    "\n",
    "    def on_batch_end(self, batch, logs={}):\n",
    "        batch_loss = logs.get('loss')\n",
    "        self.losses.append(batch_loss)\n",
    "        \n",
    "def plot_losses(losses):\n",
    "    fig = plt.figure()\n",
    "    ax = fig.add_subplot(111)\n",
    "    ax.plot(losses)\n",
    "    ax.set_title('Loss per batch')"
   ]
  },
  {
   "cell_type": "code",
   "execution_count": 3,
   "metadata": {},
   "outputs": [
    {
     "name": "stdout",
     "output_type": "stream",
     "text": [
      "Downloading data from https://s3.amazonaws.com/img-datasets/mnist.npz\n",
      "11493376/11490434 [==============================] - 5s 0us/step\n"
     ]
    }
   ],
   "source": [
    "# Load pre-shuffled MNIST data into train and test sets\n",
    "(X_train, y_train), (X_test, y_test) = mnist.load_data()"
   ]
  },
  {
   "cell_type": "code",
   "execution_count": 4,
   "metadata": {},
   "outputs": [
    {
     "name": "stdout",
     "output_type": "stream",
     "text": [
      "(60000, 28, 28)\n",
      "(60000, 28, 28, 1)\n"
     ]
    },
    {
     "data": {
      "image/png": "[encoded data removed]",
      "text/plain": [
       "<matplotlib.figure.Figure at 0x7fbcfdcead68>"
      ]
     },
     "metadata": {},
     "output_type": "display_data"
    }
   ],
   "source": [
    "print(X_train.shape)\n",
    "# (60000, 28, 28)\n",
    "\n",
    "plt.imshow(X_train[0])\n",
    "\n",
    "# Reshape input data\n",
    "X_train = X_train.reshape(X_train.shape[0], 28, 28, 1)\n",
    "X_test = X_test.reshape(X_test.shape[0], 28, 28, 1)\n",
    "\n",
    "print(X_train.shape)\n",
    "# (60000, 28, 28, 1)"
   ]
  },
  {
   "cell_type": "code",
   "execution_count": 5,
   "metadata": {},
   "outputs": [],
   "source": [
    "# Convert data type and normalize values\n",
    "X_train = X_train.astype('float32')\n",
    "X_test = X_test.astype('float32')\n",
    "X_train /= 255\n",
    "X_test /= 255"
   ]
  },
  {
   "cell_type": "code",
   "execution_count": 6,
   "metadata": {
    "scrolled": true
   },
   "outputs": [
    {
     "name": "stdout",
     "output_type": "stream",
     "text": [
      "(60000,)\n",
      "[5 0 4 1 9 2 1 3 1 4]\n",
      "(60000, 10)\n",
      "[[0. 0. 0. 0. 0. 1. 0. 0. 0. 0.]\n",
      " [1. 0. 0. 0. 0. 0. 0. 0. 0. 0.]\n",
      " [0. 0. 0. 0. 1. 0. 0. 0. 0. 0.]\n",
      " [0. 1. 0. 0. 0. 0. 0. 0. 0. 0.]\n",
      " [0. 0. 0. 0. 0. 0. 0. 0. 0. 1.]\n",
      " [0. 0. 1. 0. 0. 0. 0. 0. 0. 0.]\n",
      " [0. 1. 0. 0. 0. 0. 0. 0. 0. 0.]\n",
      " [0. 0. 0. 1. 0. 0. 0. 0. 0. 0.]\n",
      " [0. 1. 0. 0. 0. 0. 0. 0. 0. 0.]\n",
      " [0. 0. 0. 0. 1. 0. 0. 0. 0. 0.]]\n"
     ]
    }
   ],
   "source": [
    "print(y_train.shape)\n",
    "# (60000,)\n",
    "\n",
    "print(y_train[:10])\n",
    "# [5 0 4 1 9 2 1 3 1 4]\n",
    "\n",
    "# Convert 1-dimensional class arrays to 10-dimensional class matrices\n",
    "Y_train = np_utils.to_categorical(y_train, 10)\n",
    "Y_test = np_utils.to_categorical(y_test, 10)\n",
    "\n",
    "print(Y_train.shape)\n",
    "# (60000, 10)\n",
    "\n",
    "print(Y_train[:10])"
   ]
  },
  {
   "cell_type": "code",
   "execution_count": 21,
   "metadata": {},
   "outputs": [],
   "source": [
    "model_1 = Sequential()\n",
    "model_1.add(Conv2D(32, kernel_size=(3, 3), strides=(1, 1), activation='relu', input_shape=(28,28, 1), padding=\"same\"))\n",
    "model_1.add(Conv2D(32, kernel_size=(3, 3), strides=(1, 1), activation='relu', padding=\"same\"))\n",
    "model_1.add(MaxPooling2D(pool_size=(2,2)))\n",
    "model_1.add(Dropout(0.25))\n",
    "\n",
    "model_1.add(Flatten())\n",
    "model_1.add(Dense(128, activation='relu'))\n",
    "model_1.add(Dropout(0.5))\n",
    "model_1.add(Dense(10, activation='softmax'))\n",
    "\n",
    "# ------------------\n",
    "\n",
    "model_2 = Sequential()\n",
    "model_2.add(Conv2D(32, kernel_size=(3, 3), strides=(1, 1), activation='relu', input_shape=(28,28, 1), padding=\"same\"))\n",
    "model_2.add(Conv2D(32, kernel_size=(3, 3), strides=(1, 1), activation='relu', padding=\"same\"))\n",
    "model_2.add(MaxPooling2D(pool_size=(2,2)))\n",
    "model_2.add(Dropout(0.25))\n",
    "\n",
    "model_2.add(Conv2D(64, kernel_size=(3, 3), strides=(1, 1), activation='relu', input_shape=(28,28, 1), padding=\"same\"))\n",
    "model_2.add(Conv2D(64, kernel_size=(3, 3), strides=(1, 1), activation='relu', padding=\"same\"))\n",
    "model_2.add(MaxPooling2D(pool_size=(2,2)))\n",
    "model_2.add(Dropout(0.25))\n",
    "\n",
    "model_2.add(Flatten())\n",
    "model_2.add(Dense(128, activation='relu'))\n",
    "model_2.add(Dropout(0.5))\n",
    "model_2.add(Dense(10, activation='softmax'))"
   ]
  },
  {
   "cell_type": "code",
   "execution_count": 7,
   "metadata": {},
   "outputs": [],
   "source": [
    "def compile_and_fit_model(model, optimizer):\n",
    "    history = LossHistory()\n",
    "    \n",
    "    model.compile(loss='categorical_crossentropy',\n",
    "              optimizer=adam,\n",
    "              metrics=['accuracy'])\n",
    "    \n",
    "    model.fit(X_train, Y_train, callbacks=[history], batch_size=32, epochs=5, verbose=1)\n",
    "    \n",
    "#     plot_losses(history.losses)\n",
    "    \n",
    "    score = model.evaluate(X_test, Y_test, verbose=1)\n",
    "    print(score)"
   ]
  },
  {
   "cell_type": "code",
   "execution_count": 20,
   "metadata": {
    "scrolled": true
   },
   "outputs": [
    {
     "name": "stdout",
     "output_type": "stream",
     "text": [
      "Epoch 1/5\n",
      "60000/60000 [==============================] - 207s 3ms/step - loss: 0.0316 - acc: 0.9902\n",
      "Epoch 2/5\n",
      "60000/60000 [==============================] - 223s 4ms/step - loss: 0.0280 - acc: 0.9914\n",
      "Epoch 3/5\n",
      "60000/60000 [==============================] - 211s 4ms/step - loss: 0.0257 - acc: 0.9915\n",
      "Epoch 4/5\n",
      "60000/60000 [==============================] - 190s 3ms/step - loss: 0.0263 - acc: 0.9915\n",
      "Epoch 5/5\n",
      "60000/60000 [==============================] - 179s 3ms/step - loss: 0.0238 - acc: 0.9922\n",
      "10000/10000 [==============================] - 8s 797us/step\n",
      "[0.032683428573312905, 0.9911]\n",
      "Epoch 1/5\n",
      "60000/60000 [==============================] - 202s 3ms/step - loss: 0.1909 - acc: 0.9492\n",
      "Epoch 2/5\n",
      "60000/60000 [==============================] - 228s 4ms/step - loss: 0.1870 - acc: 0.9512\n",
      "Epoch 3/5\n",
      "60000/60000 [==============================] - 220s 4ms/step - loss: 0.1820 - acc: 0.9542\n",
      "Epoch 4/5\n",
      "60000/60000 [==============================] - 220s 4ms/step - loss: 0.1846 - acc: 0.9536\n",
      "Epoch 5/5\n",
      "60000/60000 [==============================] - 220s 4ms/step - loss: 0.1665 - acc: 0.9583\n",
      "10000/10000 [==============================] - 12s 1ms/step\n",
      "[0.06699410411044136, 0.9807]\n",
      "Epoch 1/5\n",
      "60000/60000 [==============================] - 206s 3ms/step - loss: 0.1158 - acc: 0.9713\n",
      "Epoch 2/5\n",
      "60000/60000 [==============================] - 214s 4ms/step - loss: 0.0967 - acc: 0.9748\n",
      "Epoch 3/5\n",
      "60000/60000 [==============================] - 203s 3ms/step - loss: 0.0906 - acc: 0.9764\n",
      "Epoch 4/5\n",
      "60000/60000 [==============================] - 203s 3ms/step - loss: 0.0845 - acc: 0.9776\n",
      "Epoch 5/5\n",
      "60000/60000 [==============================] - 181s 3ms/step - loss: 0.0803 - acc: 0.9785\n",
      "10000/10000 [==============================] - 7s 679us/step\n",
      "[0.07156400787681277, 0.9833]\n"
     ]
    },
    {
     "data": {
      "image/png": "[encoded data removed]",
      "text/plain": [
       "<matplotlib.figure.Figure at 0x7fb16b7a8f98>"
      ]
     },
     "metadata": {},
     "output_type": "display_data"
    },
    {
     "data": {
      "image/png": "[encoded data removed]",
      "text/plain": [
       "<matplotlib.figure.Figure at 0x7fb16a768978>"
      ]
     },
     "metadata": {},
     "output_type": "display_data"
    },
    {
     "data": {
      "image/png": "[encoded data removed]",
      "text/plain": [
       "<matplotlib.figure.Figure at 0x7fb16a7ae9b0>"
      ]
     },
     "metadata": {},
     "output_type": "display_data"
    }
   ],
   "source": [
    "adam = Adam(lr=0.001)\n",
    "compile_and_fit_model(model_1, adam)\n",
    "\n",
    "adam = Adam(lr=0.01)\n",
    "compile_and_fit_model(model_1, adam)\n",
    "\n",
    "adam = Adam(lr=0.005)\n",
    "compile_and_fit_model(model_1, adam)"
   ]
  },
  {
   "cell_type": "code",
   "execution_count": 23,
   "metadata": {},
   "outputs": [
    {
     "name": "stdout",
     "output_type": "stream",
     "text": [
      "Epoch 1/5\n",
      "60000/60000 [==============================] - 335s 6ms/step - loss: 0.2124 - acc: 0.9338\n",
      "Epoch 2/5\n",
      "60000/60000 [==============================] - 285s 5ms/step - loss: 0.0818 - acc: 0.9759\n",
      "Epoch 3/5\n",
      "60000/60000 [==============================] - 281s 5ms/step - loss: 0.0610 - acc: 0.9823\n",
      "Epoch 4/5\n",
      "60000/60000 [==============================] - 276s 5ms/step - loss: 0.0523 - acc: 0.9847\n",
      "Epoch 5/5\n",
      "60000/60000 [==============================] - 286s 5ms/step - loss: 0.0453 - acc: 0.9860\n",
      "10000/10000 [==============================] - 12s 1ms/step\n",
      "[0.026956911560096795, 0.9916]\n",
      "Epoch 1/5\n",
      "60000/60000 [==============================] - 300s 5ms/step - loss: 0.2787 - acc: 0.9279\n",
      "Epoch 2/5\n",
      "60000/60000 [==============================] - 316s 5ms/step - loss: 0.3048 - acc: 0.9231\n",
      "Epoch 3/5\n",
      "60000/60000 [==============================] - 308s 5ms/step - loss: 0.3098 - acc: 0.9258\n",
      "Epoch 4/5\n",
      "60000/60000 [==============================] - 318s 5ms/step - loss: 0.3325 - acc: 0.9249\n",
      "Epoch 5/5\n",
      "60000/60000 [==============================] - 303s 5ms/step - loss: 0.3179 - acc: 0.9282\n",
      "10000/10000 [==============================] - 14s 1ms/step\n",
      "[0.12229771248615862, 0.9745]\n",
      "Epoch 1/5\n",
      "60000/60000 [==============================] - 336s 6ms/step - loss: 0.2297 - acc: 0.9489\n",
      "Epoch 2/5\n",
      "60000/60000 [==============================] - 347s 6ms/step - loss: 0.1862 - acc: 0.9552\n",
      "Epoch 3/5\n",
      "60000/60000 [==============================] - 319s 5ms/step - loss: 0.1880 - acc: 0.9559\n",
      "Epoch 4/5\n",
      "60000/60000 [==============================] - 334s 6ms/step - loss: 0.1665 - acc: 0.9596\n",
      "Epoch 5/5\n",
      "60000/60000 [==============================] - 288s 5ms/step - loss: 0.1694 - acc: 0.9605\n",
      "10000/10000 [==============================] - 15s 1ms/step\n",
      "[0.08728126272139525, 0.9777]\n"
     ]
    }
   ],
   "source": [
    "adam = Adam(lr=0.001)\n",
    "compile_and_fit_model(model_2, adam)\n",
    "\n",
    "adam = Adam(lr=0.01)\n",
    "compile_and_fit_model(model_2, adam)\n",
    "\n",
    "adam = Adam(lr=0.005)\n",
    "compile_and_fit_model(model_2, adam)"
   ]
  },
  {
   "cell_type": "code",
   "execution_count": 8,
   "metadata": {},
   "outputs": [],
   "source": [
    "model_3 = Sequential()\n",
    "model_3.add(Conv2D(32, kernel_size=(3, 3), strides=(1, 1), activation='relu', input_shape=(28,28, 1), padding=\"same\"))\n",
    "model_3.add(Conv2D(32, kernel_size=(3, 3), strides=(1, 1), activation='relu', padding=\"same\"))\n",
    "model_3.add(MaxPooling2D(pool_size=(2,2)))\n",
    "model_3.add(Dropout(0.7))\n",
    "\n",
    "model_3.add(Conv2D(64, kernel_size=(3, 3), strides=(1, 1), activation='relu', input_shape=(28,28, 1), padding=\"same\"))\n",
    "model_3.add(Conv2D(64, kernel_size=(3, 3), strides=(1, 1), activation='relu', padding=\"same\"))\n",
    "model_3.add(MaxPooling2D(pool_size=(2,2)))\n",
    "model_3.add(Dropout(0.7))\n",
    "\n",
    "model_3.add(Flatten())\n",
    "model_3.add(Dense(128, activation='relu'))\n",
    "model_3.add(Dropout(0.7))\n",
    "model_3.add(Dense(10, activation='softmax'))\n",
    "\n",
    "# ------------------------\n",
    "\n",
    "model_4 = Sequential()\n",
    "model_4.add(Conv2D(32, kernel_size=(3, 3), strides=(1, 1), activation='relu', input_shape=(28,28, 1), padding=\"same\"))\n",
    "model_4.add(Conv2D(32, kernel_size=(3, 3), strides=(1, 1), activation='relu', padding=\"same\"))\n",
    "model_4.add(MaxPooling2D(pool_size=(2,2)))\n",
    "model_4.add(Dropout(0.1))\n",
    "\n",
    "model_4.add(Conv2D(64, kernel_size=(3, 3), strides=(1, 1), activation='relu', input_shape=(28,28, 1), padding=\"same\"))\n",
    "model_4.add(Conv2D(64, kernel_size=(3, 3), strides=(1, 1), activation='relu', padding=\"same\"))\n",
    "model_4.add(MaxPooling2D(pool_size=(2,2)))\n",
    "model_4.add(Dropout(0.1))\n",
    "\n",
    "model_4.add(Flatten())\n",
    "model_4.add(Dense(128, activation='relu'))\n",
    "model_4.add(Dropout(0.1))\n",
    "model_4.add(Dense(10, activation='softmax'))"
   ]
  },
  {
   "cell_type": "code",
   "execution_count": 9,
   "metadata": {},
   "outputs": [
    {
     "name": "stdout",
     "output_type": "stream",
     "text": [
      "Epoch 1/5\n",
      "60000/60000 [==============================] - 475s 8ms/step - loss: 0.4988 - acc: 0.8406\n",
      "Epoch 2/5\n",
      "60000/60000 [==============================] - 427s 7ms/step - loss: 0.2169 - acc: 0.9355\n",
      "Epoch 3/5\n",
      "60000/60000 [==============================] - 367s 6ms/step - loss: 0.1731 - acc: 0.9501\n",
      "Epoch 4/5\n",
      "60000/60000 [==============================] - 440s 7ms/step - loss: 0.1549 - acc: 0.9555\n",
      "Epoch 5/5\n",
      "60000/60000 [==============================] - 471s 8ms/step - loss: 0.1396 - acc: 0.9612\n",
      "10000/10000 [==============================] - 21s 2ms/step\n",
      "[0.033080785063188525, 0.99]\n"
     ]
    }
   ],
   "source": [
    "adam = Adam(lr=0.001)\n",
    "compile_and_fit_model(model_3, adam)"
   ]
  },
  {
   "cell_type": "code",
   "execution_count": 10,
   "metadata": {},
   "outputs": [
    {
     "name": "stdout",
     "output_type": "stream",
     "text": [
      "Epoch 1/5\n",
      "60000/60000 [==============================] - 378s 6ms/step - loss: 0.1211 - acc: 0.9625\n",
      "Epoch 2/5\n",
      "60000/60000 [==============================] - 405s 7ms/step - loss: 0.0423 - acc: 0.9871\n",
      "Epoch 3/5\n",
      "60000/60000 [==============================] - 432s 7ms/step - loss: 0.0305 - acc: 0.9907\n",
      "Epoch 4/5\n",
      "60000/60000 [==============================] - 410s 7ms/step - loss: 0.0239 - acc: 0.9923\n",
      "Epoch 5/5\n",
      "60000/60000 [==============================] - 399s 7ms/step - loss: 0.0215 - acc: 0.9931\n",
      "10000/10000 [==============================] - 17s 2ms/step\n",
      "[0.024572335696592926, 0.9929]\n"
     ]
    }
   ],
   "source": [
    "adam = Adam(lr=0.001)\n",
    "compile_and_fit_model(model_4, adam)"
   ]
  },
  {
   "cell_type": "code",
   "execution_count": 13,
   "metadata": {},
   "outputs": [
    {
     "name": "stdout",
     "output_type": "stream",
     "text": [
      "Epoch 1/5\n",
      "60000/60000 [==============================] - 439s 7ms/step - loss: 0.0176 - acc: 0.9947\n",
      "Epoch 2/5\n",
      "60000/60000 [==============================] - 427s 7ms/step - loss: 0.0159 - acc: 0.9948\n",
      "Epoch 3/5\n",
      "60000/60000 [==============================] - 437s 7ms/step - loss: 0.0145 - acc: 0.9953\n",
      "Epoch 4/5\n",
      "60000/60000 [==============================] - 407s 7ms/step - loss: 0.0116 - acc: 0.9963\n",
      "Epoch 5/5\n",
      "60000/60000 [==============================] - 371s 6ms/step - loss: 0.0112 - acc: 0.9966\n",
      "10000/10000 [==============================] - 18s 2ms/step\n",
      "[0.024864367902358662, 0.9938]\n"
     ]
    }
   ],
   "source": [
    "model_5 = Sequential()\n",
    "model_5.add(Conv2D(32, kernel_size=(3, 3), strides=(1, 1), activation='relu', input_shape=(28,28, 1), padding=\"same\"))\n",
    "model_5.add(Conv2D(32, kernel_size=(3, 3), strides=(1, 1), activation='relu', padding=\"same\"))\n",
    "model_5.add(MaxPooling2D(pool_size=(2,2)))\n",
    "model_5.add(Dropout(0.25))\n",
    "\n",
    "model_5.add(Conv2D(64, kernel_size=(3, 3), strides=(1, 1), activation='relu', input_shape=(28,28, 1), padding=\"same\"))\n",
    "model_5.add(Conv2D(64, kernel_size=(3, 3), strides=(1, 1), activation='relu', padding=\"same\"))\n",
    "model_5.add(MaxPooling2D(pool_size=(2,2)))\n",
    "model_5.add(Dropout(0.25))\n",
    "\n",
    "model_5.add(BatchNormalization())\n",
    "\n",
    "model_5.add(Flatten())\n",
    "model_5.add(Dense(128, activation='relu'))\n",
    "model_5.add(Dropout(0.5))\n",
    "model_5.add(Dense(10, activation='softmax'))\n",
    "\n",
    "adam = Adam(lr=0.001)\n",
    "compile_and_fit_model(model_4, adam)"
   ]
  },
  {
   "cell_type": "code",
   "execution_count": null,
   "metadata": {},
   "outputs": [],
   "source": []
  }
 ],
 "metadata": {
  "kernelspec": {
   "display_name": "Python 3",
   "language": "python",
   "name": "python3"
  },
  "language_info": {
   "codemirror_mode": {
    "name": "ipython",
    "version": 3
   },
   "file_extension": ".py",
   "mimetype": "text/x-python",
   "name": "python",
   "nbconvert_exporter": "python",
   "pygments_lexer": "ipython3",
   "version": "3.6.3"
  }
 },
 "nbformat": 4,
 "nbformat_minor": 2
}
