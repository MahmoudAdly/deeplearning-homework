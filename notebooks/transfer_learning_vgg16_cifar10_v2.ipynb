{
  "nbformat": 4,
  "nbformat_minor": 0,
  "metadata": {
    "colab": {
      "name": "transfer_learning_vgg16_cifar10_v2.ipynb",
      "version": "0.3.2",
      "provenance": [],
      "collapsed_sections": []
    },
    "kernelspec": {
      "name": "python3",
      "display_name": "Python 3"
    },
    "accelerator": "GPU"
  },
  "cells": [
    {
      "metadata": {
        "id": "AgL4vv23v24J",
        "colab_type": "code",
        "colab": {}
      },
      "cell_type": "code",
      "source": [
        "# to install kiras\n",
        "# !pip install -q keras"
      ],
      "execution_count": 0,
      "outputs": []
    },
    {
      "metadata": {
        "id": "hTqCOrLLwbEf",
        "colab_type": "code",
        "colab": {
          "base_uri": "https://localhost:8080/",
          "height": 34
        },
        "outputId": "919245b8-2e65-4442-b720-c531fba5591f"
      },
      "cell_type": "code",
      "source": [
        "import numpy as np\n",
        "from keras.utils import np_utils\n",
        "from keras.applications.vgg16 import VGG16\n",
        "from keras.models import Sequential, Model\n",
        "from keras.optimizers import Adam, RMSprop\n",
        "from keras.layers import Input, Flatten, Dense, Lambda, Dropout, Activation\n",
        "from keras.datasets import cifar10\n",
        "from matplotlib import pyplot as plt\n",
        "from keras import backend as K\n",
        "from keras.backend import tf as ktf\n",
        "from keras.layers.normalization import BatchNormalization\n",
        "import time"
      ],
      "execution_count": 1,
      "outputs": [
        {
          "output_type": "stream",
          "text": [
            "Using TensorFlow backend.\n"
          ],
          "name": "stderr"
        }
      ]
    },
    {
      "metadata": {
        "id": "EuEVZP-ww2ey",
        "colab_type": "code",
        "colab": {}
      },
      "cell_type": "code",
      "source": [
        "sess = ktf.Session()\n",
        "K.set_session(sess)"
      ],
      "execution_count": 0,
      "outputs": []
    },
    {
      "metadata": {
        "id": "CK8vjZoZxQHh",
        "colab_type": "text"
      },
      "cell_type": "markdown",
      "source": [
        "## Load data and prepare it"
      ]
    },
    {
      "metadata": {
        "id": "YZJwUjDXxW7J",
        "colab_type": "code",
        "colab": {}
      },
      "cell_type": "code",
      "source": [
        "(X_train, y_train), (X_test, y_test) = cifar10.load_data()"
      ],
      "execution_count": 0,
      "outputs": []
    },
    {
      "metadata": {
        "id": "k_blk56GxZXB",
        "colab_type": "code",
        "colab": {
          "base_uri": "https://localhost:8080/",
          "height": 937
        },
        "outputId": "6755f25e-0063-4992-8220-e718d02f7c80"
      },
      "cell_type": "code",
      "source": [
        "print(X_train.shape)\n",
        "print(X_train[0][0])\n",
        "plt.imshow(X_train[0])"
      ],
      "execution_count": 15,
      "outputs": [
        {
          "output_type": "stream",
          "text": [
            "(50000, 32, 32, 3)\n",
            "[[ 59  62  63]\n",
            " [ 43  46  45]\n",
            " [ 50  48  43]\n",
            " [ 68  54  42]\n",
            " [ 98  73  52]\n",
            " [119  91  63]\n",
            " [139 107  75]\n",
            " [145 110  80]\n",
            " [149 117  89]\n",
            " [149 120  93]\n",
            " [131 103  77]\n",
            " [125  99  76]\n",
            " [142 115  91]\n",
            " [144 112  86]\n",
            " [137 105  79]\n",
            " [129  97  71]\n",
            " [137 106  79]\n",
            " [134 106  76]\n",
            " [124  97  64]\n",
            " [139 113  78]\n",
            " [139 112  75]\n",
            " [133 105  69]\n",
            " [136 105  74]\n",
            " [139 108  77]\n",
            " [152 120  89]\n",
            " [163 131 100]\n",
            " [168 136 108]\n",
            " [159 129 102]\n",
            " [158 130 104]\n",
            " [158 132 108]\n",
            " [152 125 102]\n",
            " [148 124 103]]\n"
          ],
          "name": "stdout"
        },
        {
          "output_type": "execute_result",
          "data": {
            "text/plain": [
              "<matplotlib.image.AxesImage at 0x7f9421de9828>"
            ]
          },
          "metadata": {
            "tags": []
          },
          "execution_count": 15
        },
        {
          "output_type": "display_data",
          "data": {
            "image/png": "[encoded data removed]",
            "text/plain": [
              "<matplotlib.figure.Figure at 0x7f94d7a59128>"
            ]
          },
          "metadata": {
            "tags": []
          }
        }
      ]
    },
    {
      "metadata": {
        "id": "DxrLDehST1u9",
        "colab_type": "code",
        "colab": {}
      },
      "cell_type": "code",
      "source": [
        "X_train = X_train.astype('float32')\n",
        "X_test = X_test.astype('float32')\n",
        "X_train /= 255\n",
        "X_test /= 255"
      ],
      "execution_count": 0,
      "outputs": []
    },
    {
      "metadata": {
        "id": "f5OoOt7TUbvD",
        "colab_type": "code",
        "colab": {
          "base_uri": "https://localhost:8080/",
          "height": 573
        },
        "outputId": "7ff7e4d9-a949-41d3-a456-2f085a90c85f"
      },
      "cell_type": "code",
      "source": [
        "print(X_train[0][0])"
      ],
      "execution_count": 17,
      "outputs": [
        {
          "output_type": "stream",
          "text": [
            "[[0.23137255 0.24313726 0.24705882]\n",
            " [0.16862746 0.18039216 0.1764706 ]\n",
            " [0.19607843 0.1882353  0.16862746]\n",
            " [0.26666668 0.21176471 0.16470589]\n",
            " [0.38431373 0.28627452 0.20392157]\n",
            " [0.46666667 0.35686275 0.24705882]\n",
            " [0.54509807 0.41960785 0.29411766]\n",
            " [0.5686275  0.43137255 0.3137255 ]\n",
            " [0.58431375 0.45882353 0.34901962]\n",
            " [0.58431375 0.47058824 0.3647059 ]\n",
            " [0.5137255  0.40392157 0.3019608 ]\n",
            " [0.49019608 0.3882353  0.29803923]\n",
            " [0.5568628  0.4509804  0.35686275]\n",
            " [0.5647059  0.4392157  0.3372549 ]\n",
            " [0.5372549  0.4117647  0.30980393]\n",
            " [0.5058824  0.38039216 0.2784314 ]\n",
            " [0.5372549  0.41568628 0.30980393]\n",
            " [0.5254902  0.41568628 0.29803923]\n",
            " [0.4862745  0.38039216 0.2509804 ]\n",
            " [0.54509807 0.44313726 0.30588236]\n",
            " [0.54509807 0.4392157  0.29411766]\n",
            " [0.52156866 0.4117647  0.27058825]\n",
            " [0.53333336 0.4117647  0.2901961 ]\n",
            " [0.54509807 0.42352942 0.3019608 ]\n",
            " [0.59607846 0.47058824 0.34901962]\n",
            " [0.6392157  0.5137255  0.39215687]\n",
            " [0.65882355 0.53333336 0.42352942]\n",
            " [0.62352943 0.5058824  0.4       ]\n",
            " [0.61960787 0.50980395 0.40784314]\n",
            " [0.61960787 0.5176471  0.42352942]\n",
            " [0.59607846 0.49019608 0.4       ]\n",
            " [0.5803922  0.4862745  0.40392157]]\n"
          ],
          "name": "stdout"
        }
      ]
    },
    {
      "metadata": {
        "id": "w5mKhizhxdZb",
        "colab_type": "code",
        "colab": {
          "base_uri": "https://localhost:8080/",
          "height": 52
        },
        "outputId": "5fbc23f6-6307-49d3-cdb8-21f2d138de22"
      },
      "cell_type": "code",
      "source": [
        "print(y_train.shape)\n",
        "print(y_train[0])"
      ],
      "execution_count": 18,
      "outputs": [
        {
          "output_type": "stream",
          "text": [
            "(50000, 1)\n",
            "[6]\n"
          ],
          "name": "stdout"
        }
      ]
    },
    {
      "metadata": {
        "id": "lbYlpKcJxjum",
        "colab_type": "code",
        "colab": {}
      },
      "cell_type": "code",
      "source": [
        "# Convert class values to one-hot categorical values\n",
        "Y_train = np_utils.to_categorical(y_train, 10)\n",
        "Y_test = np_utils.to_categorical(y_test, 10)"
      ],
      "execution_count": 0,
      "outputs": []
    },
    {
      "metadata": {
        "id": "-M1vQtaAUfc_",
        "colab_type": "code",
        "colab": {
          "base_uri": "https://localhost:8080/",
          "height": 34
        },
        "outputId": "e251cc53-2f48-4a3c-a698-843bfb172e62"
      },
      "cell_type": "code",
      "source": [
        "print(Y_train[0])"
      ],
      "execution_count": 20,
      "outputs": [
        {
          "output_type": "stream",
          "text": [
            "[0. 0. 0. 0. 0. 0. 1. 0. 0. 0.]\n"
          ],
          "name": "stdout"
        }
      ]
    },
    {
      "metadata": {
        "id": "1Yp1XWcCxr4R",
        "colab_type": "text"
      },
      "cell_type": "markdown",
      "source": [
        "### My images' size is 32x32. But to be able to use the pre-trained model weights, we have to enlarge them.\n",
        "\n",
        "\n",
        "### Let's do it as a layer in the model."
      ]
    },
    {
      "metadata": {
        "id": "4nM3ay_rxu81",
        "colab_type": "text"
      },
      "cell_type": "markdown",
      "source": [
        "## Load VGG16 model and customize it"
      ]
    },
    {
      "metadata": {
        "id": "SZ6OAgG4mhCj",
        "colab_type": "code",
        "colab": {}
      },
      "cell_type": "code",
      "source": [
        "image_size = 64\n",
        "dropout = 0.5\n",
        "batch_size = 64\n",
        "epochs = 20"
      ],
      "execution_count": 0,
      "outputs": []
    },
    {
      "metadata": {
        "id": "8zLY0bEixxki",
        "colab_type": "code",
        "colab": {}
      },
      "cell_type": "code",
      "source": [
        "vgg16_model = VGG16(include_top=False, input_shape=(image_size, image_size, 3))"
      ],
      "execution_count": 0,
      "outputs": []
    },
    {
      "metadata": {
        "id": "pXrcBYc1x3D_",
        "colab_type": "code",
        "colab": {
          "base_uri": "https://localhost:8080/",
          "height": 816
        },
        "outputId": "b9f97643-5921-4391-9de3-bc78838109be"
      },
      "cell_type": "code",
      "source": [
        "print(vgg16_model.summary())"
      ],
      "execution_count": 22,
      "outputs": [
        {
          "output_type": "stream",
          "text": [
            "_________________________________________________________________\n",
            "Layer (type)                 Output Shape              Param #   \n",
            "=================================================================\n",
            "input_3 (InputLayer)         (None, 64, 64, 3)         0         \n",
            "_________________________________________________________________\n",
            "block1_conv1 (Conv2D)        (None, 64, 64, 64)        1792      \n",
            "_________________________________________________________________\n",
            "block1_conv2 (Conv2D)        (None, 64, 64, 64)        36928     \n",
            "_________________________________________________________________\n",
            "block1_pool (MaxPooling2D)   (None, 32, 32, 64)        0         \n",
            "_________________________________________________________________\n",
            "block2_conv1 (Conv2D)        (None, 32, 32, 128)       73856     \n",
            "_________________________________________________________________\n",
            "block2_conv2 (Conv2D)        (None, 32, 32, 128)       147584    \n",
            "_________________________________________________________________\n",
            "block2_pool (MaxPooling2D)   (None, 16, 16, 128)       0         \n",
            "_________________________________________________________________\n",
            "block3_conv1 (Conv2D)        (None, 16, 16, 256)       295168    \n",
            "_________________________________________________________________\n",
            "block3_conv2 (Conv2D)        (None, 16, 16, 256)       590080    \n",
            "_________________________________________________________________\n",
            "block3_conv3 (Conv2D)        (None, 16, 16, 256)       590080    \n",
            "_________________________________________________________________\n",
            "block3_pool (MaxPooling2D)   (None, 8, 8, 256)         0         \n",
            "_________________________________________________________________\n",
            "block4_conv1 (Conv2D)        (None, 8, 8, 512)         1180160   \n",
            "_________________________________________________________________\n",
            "block4_conv2 (Conv2D)        (None, 8, 8, 512)         2359808   \n",
            "_________________________________________________________________\n",
            "block4_conv3 (Conv2D)        (None, 8, 8, 512)         2359808   \n",
            "_________________________________________________________________\n",
            "block4_pool (MaxPooling2D)   (None, 4, 4, 512)         0         \n",
            "_________________________________________________________________\n",
            "block5_conv1 (Conv2D)        (None, 4, 4, 512)         2359808   \n",
            "_________________________________________________________________\n",
            "block5_conv2 (Conv2D)        (None, 4, 4, 512)         2359808   \n",
            "_________________________________________________________________\n",
            "block5_conv3 (Conv2D)        (None, 4, 4, 512)         2359808   \n",
            "_________________________________________________________________\n",
            "block5_pool (MaxPooling2D)   (None, 2, 2, 512)         0         \n",
            "=================================================================\n",
            "Total params: 14,714,688\n",
            "Trainable params: 14,714,688\n",
            "Non-trainable params: 0\n",
            "_________________________________________________________________\n",
            "None\n"
          ],
          "name": "stdout"
        }
      ]
    },
    {
      "metadata": {
        "id": "-pUjIPZcI4LO",
        "colab_type": "code",
        "colab": {}
      },
      "cell_type": "code",
      "source": [
        "inp = Input(shape=(None, None, 3))\n",
        "\n",
        "x = Lambda(lambda image: ktf.image.resize_images(image, (image_size, image_size)))(inp)\n",
        "\n",
        "# No need to retrain the network.\n",
        "for layer in vgg16_model.layers:\n",
        "  layer.trainable = False\n",
        "  x = layer(x)\n",
        "\n",
        "# Add the fully-connected layers at the end\n",
        "x = Flatten(name='flatten')(x)\n",
        "x = Dense(4096, activation='relu', name='fc1')(x)\n",
        "x = BatchNormalization()(x)\n",
        "x = Activation('relu')(x)\n",
        "x = Dropout(dropout)(x)\n",
        "x = Dense(4096, activation='relu', name='fc2')(x)\n",
        "x = BatchNormalization()(x)\n",
        "x = Activation('relu')(x)\n",
        "x = Dropout(dropout)(x)\n",
        "x = Dense(10, activation='softmax', name='predictions')(x)\n",
        "\n",
        "model = Model(inputs=inp, outputs=x)"
      ],
      "execution_count": 0,
      "outputs": []
    },
    {
      "metadata": {
        "id": "D7py-e07I_NC",
        "colab_type": "code",
        "colab": {
          "base_uri": "https://localhost:8080/",
          "height": 1233
        },
        "outputId": "9e2d8d3f-0e47-4e9b-b66c-ce26bf85c526"
      },
      "cell_type": "code",
      "source": [
        "print(model.summary())"
      ],
      "execution_count": 24,
      "outputs": [
        {
          "output_type": "stream",
          "text": [
            "_________________________________________________________________\n",
            "Layer (type)                 Output Shape              Param #   \n",
            "=================================================================\n",
            "input_4 (InputLayer)         (None, None, None, 3)     0         \n",
            "_________________________________________________________________\n",
            "lambda_2 (Lambda)            (None, 64, 64, 3)         0         \n",
            "_________________________________________________________________\n",
            "input_3 (InputLayer)         (None, 64, 64, 3)         0         \n",
            "_________________________________________________________________\n",
            "block1_conv1 (Conv2D)        (None, 64, 64, 64)        1792      \n",
            "_________________________________________________________________\n",
            "block1_conv2 (Conv2D)        (None, 64, 64, 64)        36928     \n",
            "_________________________________________________________________\n",
            "block1_pool (MaxPooling2D)   (None, 32, 32, 64)        0         \n",
            "_________________________________________________________________\n",
            "block2_conv1 (Conv2D)        (None, 32, 32, 128)       73856     \n",
            "_________________________________________________________________\n",
            "block2_conv2 (Conv2D)        (None, 32, 32, 128)       147584    \n",
            "_________________________________________________________________\n",
            "block2_pool (MaxPooling2D)   (None, 16, 16, 128)       0         \n",
            "_________________________________________________________________\n",
            "block3_conv1 (Conv2D)        (None, 16, 16, 256)       295168    \n",
            "_________________________________________________________________\n",
            "block3_conv2 (Conv2D)        (None, 16, 16, 256)       590080    \n",
            "_________________________________________________________________\n",
            "block3_conv3 (Conv2D)        (None, 16, 16, 256)       590080    \n",
            "_________________________________________________________________\n",
            "block3_pool (MaxPooling2D)   (None, 8, 8, 256)         0         \n",
            "_________________________________________________________________\n",
            "block4_conv1 (Conv2D)        (None, 8, 8, 512)         1180160   \n",
            "_________________________________________________________________\n",
            "block4_conv2 (Conv2D)        (None, 8, 8, 512)         2359808   \n",
            "_________________________________________________________________\n",
            "block4_conv3 (Conv2D)        (None, 8, 8, 512)         2359808   \n",
            "_________________________________________________________________\n",
            "block4_pool (MaxPooling2D)   (None, 4, 4, 512)         0         \n",
            "_________________________________________________________________\n",
            "block5_conv1 (Conv2D)        (None, 4, 4, 512)         2359808   \n",
            "_________________________________________________________________\n",
            "block5_conv2 (Conv2D)        (None, 4, 4, 512)         2359808   \n",
            "_________________________________________________________________\n",
            "block5_conv3 (Conv2D)        (None, 4, 4, 512)         2359808   \n",
            "_________________________________________________________________\n",
            "block5_pool (MaxPooling2D)   (None, 2, 2, 512)         0         \n",
            "_________________________________________________________________\n",
            "flatten (Flatten)            (None, 2048)              0         \n",
            "_________________________________________________________________\n",
            "fc1 (Dense)                  (None, 4096)              8392704   \n",
            "_________________________________________________________________\n",
            "batch_normalization_3 (Batch (None, 4096)              16384     \n",
            "_________________________________________________________________\n",
            "activation_3 (Activation)    (None, 4096)              0         \n",
            "_________________________________________________________________\n",
            "dropout_3 (Dropout)          (None, 4096)              0         \n",
            "_________________________________________________________________\n",
            "fc2 (Dense)                  (None, 4096)              16781312  \n",
            "_________________________________________________________________\n",
            "batch_normalization_4 (Batch (None, 4096)              16384     \n",
            "_________________________________________________________________\n",
            "activation_4 (Activation)    (None, 4096)              0         \n",
            "_________________________________________________________________\n",
            "dropout_4 (Dropout)          (None, 4096)              0         \n",
            "_________________________________________________________________\n",
            "predictions (Dense)          (None, 10)                40970     \n",
            "=================================================================\n",
            "Total params: 39,962,442\n",
            "Trainable params: 25,231,370\n",
            "Non-trainable params: 14,731,072\n",
            "_________________________________________________________________\n",
            "None\n"
          ],
          "name": "stdout"
        }
      ]
    },
    {
      "metadata": {
        "id": "lrnTKjf2x7IM",
        "colab_type": "code",
        "colab": {
          "base_uri": "https://localhost:8080/",
          "height": 781
        },
        "outputId": "17971f3d-d7fd-4b90-db45-6919f679b8dc"
      },
      "cell_type": "code",
      "source": [
        "optimizer = Adam()\n",
        "\n",
        "model.compile(loss='categorical_crossentropy',\n",
        "              optimizer=optimizer,\n",
        "              metrics=['accuracy'])\n",
        "\n",
        "start_time = time.time()\n",
        "\n",
        "model.fit(x=X_train, y=Y_train, validation_split=0.1, batch_size=batch_size, epochs=epochs, verbose=1)\n",
        "\n",
        "elapsed_time = time.time() - start_time\n",
        "print (\"Training done in {} seconds.\".format(elapsed_time))\n",
        "\n",
        "score = model.evaluate(X_test, Y_test, verbose=1)\n",
        "print(\"Accuracy: {0}\".format(score[1]))"
      ],
      "execution_count": 13,
      "outputs": [
        {
          "output_type": "stream",
          "text": [
            "Train on 45000 samples, validate on 5000 samples\n",
            "Epoch 1/20\n",
            "45000/45000 [==============================] - 76s 2ms/step - loss: 1.6272 - acc: 0.5536 - val_loss: 1.2927 - val_acc: 0.6348\n",
            "Epoch 2/20\n",
            "45000/45000 [==============================] - 73s 2ms/step - loss: 1.1779 - acc: 0.6356 - val_loss: 1.0227 - val_acc: 0.6756\n",
            "Epoch 3/20\n",
            "45000/45000 [==============================] - 73s 2ms/step - loss: 1.0509 - acc: 0.6636 - val_loss: 0.9643 - val_acc: 0.6968\n",
            "Epoch 4/20\n",
            "45000/45000 [==============================] - 73s 2ms/step - loss: 0.9715 - acc: 0.6838 - val_loss: 0.9692 - val_acc: 0.6938\n",
            "Epoch 5/20\n",
            "45000/45000 [==============================] - 73s 2ms/step - loss: 0.9115 - acc: 0.6961 - val_loss: 0.9323 - val_acc: 0.6978\n",
            "Epoch 6/20\n",
            "45000/45000 [==============================] - 73s 2ms/step - loss: 0.8640 - acc: 0.7102 - val_loss: 0.9296 - val_acc: 0.7098\n",
            "Epoch 7/20\n",
            "45000/45000 [==============================] - 73s 2ms/step - loss: 0.8197 - acc: 0.7241 - val_loss: 0.9075 - val_acc: 0.7130\n",
            "Epoch 8/20\n",
            "45000/45000 [==============================] - 74s 2ms/step - loss: 0.7863 - acc: 0.7316 - val_loss: 0.8841 - val_acc: 0.7130\n",
            "Epoch 9/20\n",
            "45000/45000 [==============================] - 74s 2ms/step - loss: 0.7512 - acc: 0.7454 - val_loss: 0.8618 - val_acc: 0.7214\n",
            "Epoch 10/20\n",
            "45000/45000 [==============================] - 74s 2ms/step - loss: 0.7196 - acc: 0.7540 - val_loss: 0.8548 - val_acc: 0.7352\n",
            "Epoch 11/20\n",
            "45000/45000 [==============================] - 74s 2ms/step - loss: 0.6926 - acc: 0.7607 - val_loss: 0.8825 - val_acc: 0.7254\n",
            "Epoch 12/20\n",
            "45000/45000 [==============================] - 73s 2ms/step - loss: 0.6674 - acc: 0.7706 - val_loss: 0.8883 - val_acc: 0.7112\n",
            "Epoch 13/20\n",
            "45000/45000 [==============================] - 74s 2ms/step - loss: 0.6405 - acc: 0.7793 - val_loss: 0.8292 - val_acc: 0.7326\n",
            "Epoch 14/20\n",
            "45000/45000 [==============================] - 73s 2ms/step - loss: 0.6118 - acc: 0.7859 - val_loss: 0.8411 - val_acc: 0.7328\n",
            "Epoch 15/20\n",
            "45000/45000 [==============================] - 73s 2ms/step - loss: 0.5904 - acc: 0.7937 - val_loss: 0.8605 - val_acc: 0.7474\n",
            "Epoch 16/20\n",
            "45000/45000 [==============================] - 73s 2ms/step - loss: 0.5677 - acc: 0.8015 - val_loss: 0.8309 - val_acc: 0.7378\n",
            "Epoch 17/20\n",
            "45000/45000 [==============================] - 73s 2ms/step - loss: 0.5558 - acc: 0.8067 - val_loss: 0.8222 - val_acc: 0.7420\n",
            "Epoch 18/20\n",
            "45000/45000 [==============================] - 73s 2ms/step - loss: 0.5288 - acc: 0.8133 - val_loss: 0.8368 - val_acc: 0.7432\n",
            "Epoch 19/20\n",
            "45000/45000 [==============================] - 73s 2ms/step - loss: 0.5095 - acc: 0.8205 - val_loss: 0.8399 - val_acc: 0.7410\n",
            "Epoch 20/20\n",
            "45000/45000 [==============================] - 73s 2ms/step - loss: 0.4949 - acc: 0.8262 - val_loss: 0.8469 - val_acc: 0.7392\n",
            "Training done in 1466.555470943451 seconds.\n",
            "10000/10000 [==============================] - 13s 1ms/step\n",
            "Accuracy: 0.7333\n"
          ],
          "name": "stdout"
        }
      ]
    },
    {
      "metadata": {
        "id": "IU1EJtZNJ7Ay",
        "colab_type": "text"
      },
      "cell_type": "markdown",
      "source": [
        "## Conclusion"
      ]
    },
    {
      "metadata": {
        "id": "7EZVqtTRKBnp",
        "colab_type": "text"
      },
      "cell_type": "markdown",
      "source": [
        "Even though I had the computation power this time by using Google Colaboratory and could expriment by trying and shuffling so many hyperparameters and optimizers and extra layers, I still struggled to reach something above 74% accuracy. And each trial of fine-tuning was still clearly reaching a point of overfitting. Which was strange to have a lower accuracy than my own model's accuracy of 82.68% found [here](./cnn_cifar10_v2.ipynb).\n",
        "\n",
        "But my assumption so far, and from online posts/discussions, is that such model indeed needs more finetuning. Which does not make sense in my case to put more effort in it because  I could work on my own solution anyways to make it better if I want to."
      ]
    },
    {
      "metadata": {
        "id": "YHp3JrqZLnKf",
        "colab_type": "code",
        "colab": {}
      },
      "cell_type": "code",
      "source": [
        ""
      ],
      "execution_count": 0,
      "outputs": []
    }
  ]
}